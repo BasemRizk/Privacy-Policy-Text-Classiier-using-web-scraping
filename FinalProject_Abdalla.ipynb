{
  "nbformat": 4,
  "nbformat_minor": 0,
  "metadata": {
    "colab": {
      "name": "FinalProject Abdalla.ipynb",
      "provenance": []
    },
    "hide_input": false,
    "kernelspec": {
      "display_name": "Python 3",
      "language": "python",
      "name": "python3"
    },
    "language_info": {
      "codemirror_mode": {
        "name": "ipython",
        "version": 3
      },
      "file_extension": ".py",
      "mimetype": "text/x-python",
      "name": "python",
      "nbconvert_exporter": "python",
      "pygments_lexer": "ipython3",
      "version": "3.8.8"
    }
  },
  "cells": [
    {
      "cell_type": "markdown",
      "metadata": {
        "id": "A-Tl3ln7Ek4W"
      },
      "source": [
        "#Install Packages"
      ]
    },
    {
      "cell_type": "code",
      "metadata": {
        "colab": {
          "base_uri": "https://localhost:8080/"
        },
        "id": "tWwxvDtQdIIS",
        "outputId": "1b47d418-57c7-49df-cb4b-682c798b76cf"
      },
      "source": [
        " pip install lxml"
      ],
      "execution_count": 1,
      "outputs": [
        {
          "output_type": "stream",
          "name": "stdout",
          "text": [
            "Requirement already satisfied: lxml in /usr/local/lib/python3.7/dist-packages (4.2.6)\n"
          ]
        }
      ]
    },
    {
      "cell_type": "code",
      "metadata": {
        "id": "E1pgJ94udKPa"
      },
      "source": [
        "#import libraries\n",
        "import requests \n",
        "from bs4 import BeautifulSoup\n",
        "import csv\n",
        "import pandas as pd\n",
        "from itertools import zip_longest"
      ],
      "execution_count": 15,
      "outputs": []
    },
    {
      "cell_type": "code",
      "metadata": {
        "id": "uiOwewUmpnuT"
      },
      "source": [
        "#key words to check  if url is real url for privacy policy\n",
        "key_words=['Privacy Policy','Terms and Conditions','Terms in Use','Terms & Conditions','Privacy Notice','privacy policy']"
      ],
      "execution_count": 16,
      "outputs": []
    },
    {
      "cell_type": "code",
      "metadata": {
        "id": "R_ixesX7dLwc"
      },
      "source": [
        "#list to append the content to it\n",
        "\n",
        "texts=[]"
      ],
      "execution_count": 17,
      "outputs": []
    },
    {
      "cell_type": "markdown",
      "metadata": {
        "id": "tWMmN-eqCBsE"
      },
      "source": [
        "#Enter URL"
      ]
    },
    {
      "cell_type": "code",
      "metadata": {
        "id": "P_OlGmeXB8OV"
      },
      "source": [
        "#Read the url\n",
        "\n",
        "URL=\"https://www.edureka.co/privacy-policy\"\n",
        "result=requests.get(URL)\n"
      ],
      "execution_count": 18,
      "outputs": []
    },
    {
      "cell_type": "markdown",
      "metadata": {
        "id": "loQITpfwEbMM"
      },
      "source": [
        "#Model Processing"
      ]
    },
    {
      "cell_type": "code",
      "metadata": {
        "id": "dcKdtwz0dPJE"
      },
      "source": [
        "#scrape the webpage and save its content\n",
        "\n",
        "src=result.content"
      ],
      "execution_count": 19,
      "outputs": []
    },
    {
      "cell_type": "code",
      "metadata": {
        "id": "VTOMFm-QdQzu"
      },
      "source": [
        "soup=BeautifulSoup(src,\"lxml\")"
      ],
      "execution_count": 20,
      "outputs": []
    },
    {
      "cell_type": "code",
      "metadata": {
        "id": "Ap9tJ8D5L5Ti"
      },
      "source": [
        "#Remove the pop up pages data\n",
        "\n",
        "for i in range(50):\n",
        "  try:\n",
        "    pop=(soup.find('div',{'class':\"modal-content\"}))\n",
        "    pop.decompose()\n",
        "  except:\n",
        "    True"
      ],
      "execution_count": 21,
      "outputs": []
    },
    {
      "cell_type": "code",
      "metadata": {
        "id": "2SpAh5XtDBtf"
      },
      "source": [
        "#Remove the form page data\n",
        "\n",
        "for i in range(50):\n",
        "  try:\n",
        "    form=soup.form\n",
        "    form.decompose()\n",
        "  except:\n",
        "    True"
      ],
      "execution_count": 22,
      "outputs": []
    },
    {
      "cell_type": "code",
      "metadata": {
        "id": "MRN0lGAlH6ny"
      },
      "source": [
        "#Remove the navigation bar data\n",
        "\n",
        "for i in range(10):\n",
        "  try:\n",
        "    navigation=soup.nav\n",
        "    navigation.decompose()\n",
        "  except:\n",
        "    True"
      ],
      "execution_count": 23,
      "outputs": []
    },
    {
      "cell_type": "code",
      "metadata": {
        "id": "o1Ly4uCD1Sd1"
      },
      "source": [
        "#Remove the footer data\n",
        "\n",
        "for i in range(10):\n",
        "  try:\n",
        "    footer=soup.footer\n",
        "    footer.decompose()\n",
        "  except:\n",
        "    True"
      ],
      "execution_count": 24,
      "outputs": []
    },
    {
      "cell_type": "code",
      "metadata": {
        "id": "fFMbzd0B2e8Q"
      },
      "source": [
        "#Remove the header data\n",
        "\n",
        "for i in range(10):\n",
        "  try:\n",
        "    header=soup.header\n",
        "    header.decompose()\n",
        "  except:\n",
        "    True"
      ],
      "execution_count": 25,
      "outputs": []
    },
    {
      "cell_type": "code",
      "metadata": {
        "id": "i3IRcVyG0ubE"
      },
      "source": [
        "#Remove the URL links that opens another pages data(if we dont remove it the componets of the other pages will be appear)\n",
        "\n",
        "try:\n",
        "    links=soup.a\n",
        "    links.decompose()\n",
        "except:\n",
        "    True"
      ],
      "execution_count": 26,
      "outputs": []
    },
    {
      "cell_type": "code",
      "metadata": {
        "id": "kPVM1TZ70ubF"
      },
      "source": [
        "#Remove the URL links that opens another pages data(if we dont remove it the componets of the other pages will be appear)\n",
        "\n",
        "for i in range(1000):\n",
        "    try:\n",
        "        links=soup.a\n",
        "        links.decompose()\n",
        "    except:\n",
        "        True"
      ],
      "execution_count": 27,
      "outputs": []
    },
    {
      "cell_type": "code",
      "metadata": {
        "id": "ZEZpk0bR4JjG"
      },
      "source": [
        "#find all paragraphs,lists, tables in the text\n",
        "\n",
        "text=soup.find_all([\"p\",\"li\",\"th\",\"td\"])"
      ],
      "execution_count": 28,
      "outputs": []
    },
    {
      "cell_type": "code",
      "metadata": {
        "id": "rHpJhhd7dVUM"
      },
      "source": [
        "#append the data extracted to the list text to save the data without tags\n",
        "\n",
        "for i in range(len(text)):\n",
        "  texts.append(text[i].text)\n"
      ],
      "execution_count": 29,
      "outputs": []
    },
    {
      "cell_type": "code",
      "metadata": {
        "id": "D_f7Ubor8p5K"
      },
      "source": [
        "#Transform data to dataframe (the dataframe will be printed at the end)\n",
        "\n",
        "newdf=pd.DataFrame(texts)"
      ],
      "execution_count": 30,
      "outputs": []
    },
    {
      "cell_type": "code",
      "metadata": {
        "id": "IobRPqwsmXFu"
      },
      "source": [
        "#check if the url content contain at least one of key words or not\n",
        "\n",
        "URL_index=[]\n",
        "for i in range(len(newdf)):\n",
        "  if any(word in newdf[0][i]for word in key_words):\n",
        "      URL_index.append(i)\n"
      ],
      "execution_count": 31,
      "outputs": []
    },
    {
      "cell_type": "code",
      "metadata": {
        "id": "6kJ39yc8mz-v"
      },
      "source": [
        "#check if the url is url for privacy policy or not\n",
        "\n",
        "if any(word in URL for word in key_words):\n",
        "  True\n",
        "elif (len(URL_index) > 0):\n",
        "  True\n",
        "else :\n",
        "  print(\"Invalid URL, not privacy policy page \")\n",
        "  result=requests.get()\n"
      ],
      "execution_count": 32,
      "outputs": []
    },
    {
      "cell_type": "code",
      "metadata": {
        "id": "Fqlenj-OdYh2"
      },
      "source": [
        "#make another  dataframe for our data(the dataframe to be processed)\n",
        "\n",
        "df1=pd.DataFrame(texts)"
      ],
      "execution_count": 33,
      "outputs": []
    },
    {
      "cell_type": "code",
      "metadata": {
        "id": "CAN-6E3Gda2J"
      },
      "source": [
        "#rename the column that contain the text to \"text\"\n",
        "\n",
        "df1 = df1.rename(columns={0: 'text'})"
      ],
      "execution_count": 34,
      "outputs": []
    },
    {
      "cell_type": "code",
      "metadata": {
        "id": "avfvZ_vi3jC-"
      },
      "source": [
        "#keep the index of paragraphs\n",
        "df1['paragraph']=df1.index"
      ],
      "execution_count": 35,
      "outputs": []
    },
    {
      "cell_type": "code",
      "metadata": {
        "id": "WT0vDhRUgpCl"
      },
      "source": [
        "#remove urls and clean html if it appeared in the paragraphs or list\n",
        "import re\n",
        "import string\n",
        "\n",
        "def remove_URL(text):\n",
        "    url = re.compile(r\"https?://\\S+|www\\.\\S+\")\n",
        "    return url.sub(r\"\", text)\n",
        "CLEANR = re.compile('<.*?>') \n",
        "\n",
        "def cleanhtml(raw_html):\n",
        "  cleantext = re.sub(CLEANR, '', raw_html)\n",
        "  return cleantext"
      ],
      "execution_count": 36,
      "outputs": []
    },
    {
      "cell_type": "code",
      "metadata": {
        "id": "oIZqU3bhiU_D"
      },
      "source": [
        "# after removing the tags if there are tags in the text remove it\n",
        "df1[\"text\"] = df1.text.map(remove_URL)\n",
        "df1[\"text\"] = df1.text.map(cleanhtml)\n",
        "\n",
        "tags_list = ['<p>' ,'</p>' , '<p*>',\n",
        "             '<ul>','</ul>',\n",
        "             '<li>','</li>',\n",
        "             '<br>',\n",
        "             '<strong>','</strong>',\n",
        "             '<span*>','</span>',\n",
        "             '<a href*>','</a>',\n",
        "             '<em>','</em>','→']\n",
        "\n",
        "for tag in tags_list:\n",
        "  df1['text'].replace(to_replace=tag, value='', regex=True, inplace=True)"
      ],
      "execution_count": 37,
      "outputs": []
    },
    {
      "cell_type": "code",
      "metadata": {
        "id": "L2M0Qf2pql9K",
        "colab": {
          "base_uri": "https://localhost:8080/"
        },
        "outputId": "8e57630b-fdc1-4b58-8322-9b95ceff09db"
      },
      "source": [
        "#prepare the function to remove the stopwords\n",
        "import nltk\n",
        "nltk.download('stopwords')\n",
        "from nltk.corpus import stopwords\n",
        "\n",
        "# Stop Words: A stop word is a commonly used word (such as “the”, “a”, “an”, “in”) that a search engine\n",
        "# has been programmed to ignore, both when indexing entries for searching and when retrieving them \n",
        "stop = set(stopwords.words(\"english\"))\n",
        "\n",
        "def remove_stopwords(text):\n",
        "    filtered_words = [word.lower() for word in text.split() if word.lower() not in stop]\n",
        "    return \" \".join(filtered_words)"
      ],
      "execution_count": 38,
      "outputs": [
        {
          "output_type": "stream",
          "name": "stdout",
          "text": [
            "[nltk_data] Downloading package stopwords to /root/nltk_data...\n",
            "[nltk_data]   Unzipping corpora/stopwords.zip.\n"
          ]
        }
      ]
    },
    {
      "cell_type": "code",
      "metadata": {
        "id": "b0xoXp9Dqx8k"
      },
      "source": [
        "#apply the function\n",
        "df1[\"text\"] = df1.text.map(remove_stopwords)"
      ],
      "execution_count": 39,
      "outputs": []
    },
    {
      "cell_type": "code",
      "metadata": {
        "id": "KY5bEC31q_VJ",
        "colab": {
          "base_uri": "https://localhost:8080/",
          "height": 34
        },
        "outputId": "09304270-6b60-4d4c-ab33-2bde585e69d0"
      },
      "source": [
        "#remove punctation\n",
        "def remove_punct(text):\n",
        "    translator = str.maketrans(\"\", \"\", string.punctuation)\n",
        "    return text.translate(translator)\n",
        "\n",
        "string.punctuation"
      ],
      "execution_count": 40,
      "outputs": [
        {
          "output_type": "execute_result",
          "data": {
            "application/vnd.google.colaboratory.intrinsic+json": {
              "type": "string"
            },
            "text/plain": [
              "'!\"#$%&\\'()*+,-./:;<=>?@[\\\\]^_`{|}~'"
            ]
          },
          "metadata": {},
          "execution_count": 40
        }
      ]
    },
    {
      "cell_type": "code",
      "metadata": {
        "id": "iOjPBKAWrNRH",
        "colab": {
          "base_uri": "https://localhost:8080/"
        },
        "outputId": "b7b24f14-6479-489c-b105-02c5ab419ab1"
      },
      "source": [
        "#lemmatization function\n",
        "import nltk\n",
        "nltk.download('wordnet')\n",
        "w_tokenizer = nltk.tokenize.WhitespaceTokenizer()\n",
        "lemmatizer = nltk.stem.WordNetLemmatizer()\n",
        "\n",
        "def lemmatize_text(text):\n",
        "    return [lemmatizer.lemmatize(w) for w in w_tokenizer.tokenize(text)]\n",
        "\n"
      ],
      "execution_count": 41,
      "outputs": [
        {
          "output_type": "stream",
          "name": "stdout",
          "text": [
            "[nltk_data] Downloading package wordnet to /root/nltk_data...\n",
            "[nltk_data]   Unzipping corpora/wordnet.zip.\n"
          ]
        }
      ]
    },
    {
      "cell_type": "code",
      "metadata": {
        "id": "zPSB0QXXrWiX"
      },
      "source": [
        "#apply lemmatization\n",
        "df1['text'] = df1.text.map(lemmatize_text)"
      ],
      "execution_count": 42,
      "outputs": []
    },
    {
      "cell_type": "code",
      "metadata": {
        "id": "ynBAY_AFrZr2",
        "colab": {
          "base_uri": "https://localhost:8080/"
        },
        "outputId": "13742722-7bf7-4da5-ba21-c2b4496a5c43"
      },
      "source": [
        "# rejoin the words to scentences again\n",
        "for i in range(len(df1)):\n",
        " df1.text[i] = ' '.join(df1.text[i])"
      ],
      "execution_count": 43,
      "outputs": [
        {
          "output_type": "stream",
          "name": "stderr",
          "text": [
            "/usr/local/lib/python3.7/dist-packages/ipykernel_launcher.py:3: SettingWithCopyWarning: \n",
            "A value is trying to be set on a copy of a slice from a DataFrame\n",
            "\n",
            "See the caveats in the documentation: https://pandas.pydata.org/pandas-docs/stable/user_guide/indexing.html#returning-a-view-versus-a-copy\n",
            "  This is separate from the ipykernel package so we can avoid doing imports until\n"
          ]
        }
      ]
    },
    {
      "cell_type": "code",
      "metadata": {
        "id": "5WQOyh9nrHOJ"
      },
      "source": [
        "#remove punctations\n",
        "df1[\"text\"] = df1.text.map(remove_punct)\n"
      ],
      "execution_count": 44,
      "outputs": []
    },
    {
      "cell_type": "code",
      "metadata": {
        "id": "N3SnJeu5z4pr"
      },
      "source": [
        "#remove the pargraphs that contain one word or zero words\n",
        "small_index=[]\n",
        "for i in range(len(df1)):\n",
        "  if (len((df1['text'][i]).split())<2):\n",
        "    small_index.append(i)"
      ],
      "execution_count": 45,
      "outputs": []
    },
    {
      "cell_type": "code",
      "metadata": {
        "id": "pVxs4lqw1XZl"
      },
      "source": [
        "\n",
        "df1=df1.drop(df1.index[small_index])"
      ],
      "execution_count": 46,
      "outputs": []
    },
    {
      "cell_type": "code",
      "metadata": {
        "id": "s10wODi6905M"
      },
      "source": [
        "#reset the index after droping step\n",
        "df1.reset_index(drop=True, inplace=True)"
      ],
      "execution_count": 47,
      "outputs": []
    },
    {
      "cell_type": "code",
      "metadata": {
        "id": "pWMHFRyf2Fa_"
      },
      "source": [
        "#save the paragraph,list ,tables to another dataframe\n",
        "df2=df1['text']\n",
        "df2=pd.DataFrame(df2)"
      ],
      "execution_count": 48,
      "outputs": []
    },
    {
      "cell_type": "code",
      "metadata": {
        "id": "KhFHk_-55t2-"
      },
      "source": [
        "#import important libraries\n",
        "import tensorflow as tf\n",
        "from tensorflow import keras\n",
        "import pandas as pd\n",
        "import numpy as np\n",
        "import os\n",
        "import matplotlib.pyplot as plt"
      ],
      "execution_count": 49,
      "outputs": []
    },
    {
      "cell_type": "code",
      "metadata": {
        "id": "N-2x_Rsu58f7"
      },
      "source": [
        "#read category file (load file(11.csv))\n",
        "df=pd.read_csv('11.csv')"
      ],
      "execution_count": 50,
      "outputs": []
    },
    {
      "cell_type": "code",
      "metadata": {
        "id": "a1TQNUKrawA1"
      },
      "source": [
        "#read group file (load file (11_G.csv))\n",
        "dfgroup=pd.read_csv(\"11_G.csv\")"
      ],
      "execution_count": 51,
      "outputs": []
    },
    {
      "cell_type": "code",
      "metadata": {
        "id": "yJNnIHTgawA1"
      },
      "source": [
        "#save the groups as string in new column grp\n",
        "dfgroup['grp']=dfgroup['group']"
      ],
      "execution_count": 52,
      "outputs": []
    },
    {
      "cell_type": "code",
      "metadata": {
        "id": "5jbWmSLGawA1"
      },
      "source": [
        "#save the groups names as int in column group\n",
        "dfgroup.group=dfgroup.group.replace({'A':0,'B':1,'C':2})"
      ],
      "execution_count": 53,
      "outputs": []
    },
    {
      "cell_type": "code",
      "metadata": {
        "id": "QD6rgwjMawA2"
      },
      "source": [
        "# save the group values as the labels for classification process\n",
        "ygroup=dfgroup['group']"
      ],
      "execution_count": 54,
      "outputs": []
    },
    {
      "cell_type": "code",
      "metadata": {
        "id": "zjOX3hj1awA2"
      },
      "source": [
        "#list the group names in an array\n",
        "group_names=np.array(['A','B','C'])"
      ],
      "execution_count": 55,
      "outputs": []
    },
    {
      "cell_type": "code",
      "metadata": {
        "id": "k_J-qp_r6EeY"
      },
      "source": [
        "#if you find any word out of vocabulary give it the value OOV\n",
        "oov_tok=\"<OOV>\""
      ],
      "execution_count": 56,
      "outputs": []
    },
    {
      "cell_type": "code",
      "metadata": {
        "id": "HMtz32ma6JBg"
      },
      "source": [
        "#save the category as string in new column cat\n",
        "\n",
        "df['cat']=df['category']"
      ],
      "execution_count": 57,
      "outputs": []
    },
    {
      "cell_type": "code",
      "metadata": {
        "id": "ZxSLoF9z6MFi"
      },
      "source": [
        "#save the category names as int in column category\n",
        "\n",
        "df.category=df.category.replace({\"First Party Collection/Use\":0,\n",
        "\"Third Party Sharing/Collection\":1,\"User Choice/Control\":2,\"User Access, Edit and Deletion\":3,\n",
        "\"Data Retention\":4,\"Data Security\":5,\"Policy Change\":6,\"Do Not Track\":7 ,\"International and Specific Audiences\":8,\n",
        "\"Other\":9})"
      ],
      "execution_count": 58,
      "outputs": []
    },
    {
      "cell_type": "code",
      "metadata": {
        "id": "RtfoahX86PNH"
      },
      "source": [
        "#list the category names in an array\n",
        "\n",
        "target_names=['First Party Collection/Use','Third Party Sharing/Collection','User Choice/Control','User Access, Edit and Deletion','Data Retention','Data Security','Policy Change','Do Not Track','International and Specific Audiences','Other']"
      ],
      "execution_count": 59,
      "outputs": []
    },
    {
      "cell_type": "code",
      "metadata": {
        "id": "PD2nqw7O6SOF"
      },
      "source": [
        "#list the group names in an array\n",
        "\n",
        "category_name=np.array(target_names)\n"
      ],
      "execution_count": 60,
      "outputs": []
    },
    {
      "cell_type": "code",
      "metadata": {
        "id": "UGBNVm7_6T-g"
      },
      "source": [
        "#removing url for input of the model\n",
        "df[\"text\"] = df.text.map(remove_URL)\n"
      ],
      "execution_count": 61,
      "outputs": []
    },
    {
      "cell_type": "code",
      "metadata": {
        "id": "PTSTvNLr6YWb"
      },
      "source": [
        "#removing tags for input of the model\n",
        "for tag in tags_list:\n",
        "  df['text'].replace(to_replace=tag, value='', regex=True, inplace=True)"
      ],
      "execution_count": 62,
      "outputs": []
    },
    {
      "cell_type": "code",
      "metadata": {
        "id": "y_sItjrz6cie"
      },
      "source": [
        "#removing stopwords for the model input\n",
        "df[\"text\"] = df.text.map(remove_stopwords)"
      ],
      "execution_count": 63,
      "outputs": []
    },
    {
      "cell_type": "code",
      "metadata": {
        "id": "d3arcUq96fis"
      },
      "source": [
        "#removing punctation for the model input\n",
        "df[\"text\"] = df.text.map(remove_punct)\n"
      ],
      "execution_count": 64,
      "outputs": []
    },
    {
      "cell_type": "code",
      "metadata": {
        "id": "y_avNLvO6hRh"
      },
      "source": [
        "#lemmatizing the input\n",
        "df['text'] = df.text.map(lemmatize_text)"
      ],
      "execution_count": 65,
      "outputs": []
    },
    {
      "cell_type": "code",
      "metadata": {
        "id": "KTFegwr96lRg",
        "colab": {
          "base_uri": "https://localhost:8080/"
        },
        "outputId": "f5d8e8d3-e207-415e-92f0-153478b0327e"
      },
      "source": [
        "#rejoin the words to sentences\n",
        "for i in range(len(df)):\n",
        "  df.text[i] = ' '.join(df.text[i])"
      ],
      "execution_count": 66,
      "outputs": [
        {
          "output_type": "stream",
          "name": "stderr",
          "text": [
            "/usr/local/lib/python3.7/dist-packages/ipykernel_launcher.py:3: SettingWithCopyWarning: \n",
            "A value is trying to be set on a copy of a slice from a DataFrame\n",
            "\n",
            "See the caveats in the documentation: https://pandas.pydata.org/pandas-docs/stable/user_guide/indexing.html#returning-a-view-versus-a-copy\n",
            "  This is separate from the ipykernel package so we can avoid doing imports until\n"
          ]
        }
      ]
    },
    {
      "cell_type": "code",
      "metadata": {
        "id": "ttERImKg6n-C"
      },
      "source": [
        "#split the data to train and test data \n",
        "from sklearn.model_selection import train_test_split\n",
        "x=df.text\n",
        "y=df.category\n",
        "x_train,x_test,y_train,y_test=train_test_split(x,y,test_size=0.25,random_state=4,shuffle=True)"
      ],
      "execution_count": 67,
      "outputs": []
    },
    {
      "cell_type": "code",
      "metadata": {
        "id": "PQqcPbNS6vD0"
      },
      "source": [
        "#transform the input text into count vectorizer\n",
        "from sklearn.feature_extraction.text import CountVectorizer\n",
        "count_vect=CountVectorizer()\n",
        "x_train_count=count_vect.fit_transform(x_train)"
      ],
      "execution_count": 68,
      "outputs": []
    },
    {
      "cell_type": "code",
      "metadata": {
        "id": "H-ba7-Wf6xOl"
      },
      "source": [
        "#apply tfid transform on the text\n",
        "from sklearn.feature_extraction.text import TfidfTransformer\n",
        "tfid_transformer=TfidfTransformer()\n",
        "x_train_tfidf=tfid_transformer.fit_transform(x_train_count)"
      ],
      "execution_count": 69,
      "outputs": []
    },
    {
      "cell_type": "code",
      "metadata": {
        "id": "42y9W6gA6z2W",
        "colab": {
          "base_uri": "https://localhost:8080/"
        },
        "outputId": "d9acb7b4-9984-4a82-af95-d925e0c2a252"
      },
      "source": [
        "#apply linear kernel svm model with 5 cv folds\n",
        "from sklearn.pipeline import Pipeline\n",
        "from sklearn.feature_extraction.text import TfidfVectorizer\n",
        "from sklearn.svm import SVC\n",
        "\n",
        "text_clf=Pipeline([('tfidf',TfidfVectorizer()),\n",
        "                   ('clf',SVC(kernel='linear',C=1,gamma='auto',probability=False,random_state=0)),])\n",
        "text_clf.fit(x_train,y_train)"
      ],
      "execution_count": 70,
      "outputs": [
        {
          "output_type": "execute_result",
          "data": {
            "text/plain": [
              "Pipeline(steps=[('tfidf', TfidfVectorizer()),\n",
              "                ('clf',\n",
              "                 SVC(C=1, gamma='auto', kernel='linear', random_state=0))])"
            ]
          },
          "metadata": {},
          "execution_count": 70
        }
      ]
    },
    {
      "cell_type": "code",
      "metadata": {
        "id": "c8jduJ1E62xj"
      },
      "source": [
        "#make predictions on the test data to check accuracy\n",
        "SVMpredictions=text_clf.predict(x_test)"
      ],
      "execution_count": 71,
      "outputs": []
    },
    {
      "cell_type": "code",
      "metadata": {
        "id": "bOYLOBgg65_e",
        "colab": {
          "base_uri": "https://localhost:8080/"
        },
        "outputId": "bcddcae5-03da-4c76-e985-53a88fcf888e"
      },
      "source": [
        "#Accuracy report for category\n",
        "from sklearn import metrics\n",
        "print (metrics.classification_report(y_test,SVMpredictions,target_names=target_names))"
      ],
      "execution_count": 72,
      "outputs": [
        {
          "output_type": "stream",
          "name": "stdout",
          "text": [
            "                                      precision    recall  f1-score   support\n",
            "\n",
            "          First Party Collection/Use       0.78      0.83      0.80       290\n",
            "      Third Party Sharing/Collection       0.81      0.77      0.79       209\n",
            "                 User Choice/Control       0.73      0.57      0.64        77\n",
            "      User Access, Edit and Deletion       0.68      0.70      0.69        27\n",
            "                      Data Retention       1.00      0.29      0.44         7\n",
            "                       Data Security       0.89      0.82      0.85        39\n",
            "                       Policy Change       0.94      0.91      0.92        32\n",
            "                        Do Not Track       1.00      1.00      1.00         4\n",
            "International and Specific Audiences       0.86      0.89      0.87        62\n",
            "                               Other       0.74      0.79      0.76       201\n",
            "\n",
            "                            accuracy                           0.79       948\n",
            "                           macro avg       0.84      0.76      0.78       948\n",
            "                        weighted avg       0.79      0.79      0.78       948\n",
            "\n"
          ]
        }
      ]
    },
    {
      "cell_type": "code",
      "metadata": {
        "id": "TuWGT5jD67zc"
      },
      "source": [
        "#predict the category names for the scraped data\n",
        "for i in range(len(df2)):\n",
        "  pred=text_clf.predict(df2.iloc[i])\n",
        "  (category_name[pred][0])"
      ],
      "execution_count": 73,
      "outputs": []
    },
    {
      "cell_type": "code",
      "metadata": {
        "id": "tWrVFGFEa-8X"
      },
      "source": [
        ""
      ],
      "execution_count": null,
      "outputs": []
    },
    {
      "cell_type": "code",
      "metadata": {
        "id": "5GL13WRfawA7"
      },
      "source": [
        "#split the data to train and test for the groups\n",
        "from sklearn.model_selection import train_test_split\n",
        "x=df.text\n",
        "x_train2,x_test2,y_train2,y_test2=train_test_split(x,ygroup,test_size=0.25,random_state=4,shuffle=True)"
      ],
      "execution_count": 74,
      "outputs": []
    },
    {
      "cell_type": "code",
      "metadata": {
        "id": "t41uDOVjawA8"
      },
      "source": [
        "#appply count vectorizer\n",
        "from sklearn.feature_extraction.text import CountVectorizer\n",
        "count_vect2=CountVectorizer()\n",
        "x_train_count2=count_vect.fit_transform(x_train2)"
      ],
      "execution_count": 75,
      "outputs": []
    },
    {
      "cell_type": "code",
      "metadata": {
        "id": "5aiRoOLlawA8"
      },
      "source": [
        "#apply tfid transformer \n",
        "from sklearn.feature_extraction.text import TfidfTransformer\n",
        "tfid_transformer2=TfidfTransformer()\n",
        "x_train_tfidf2=tfid_transformer2.fit_transform(x_train_count2)"
      ],
      "execution_count": 76,
      "outputs": []
    },
    {
      "cell_type": "code",
      "metadata": {
        "id": "G1-intnkawA8",
        "colab": {
          "base_uri": "https://localhost:8080/"
        },
        "outputId": "0268807c-3a4a-448f-e210-adf0386cb78d"
      },
      "source": [
        "#apply linear kernel svm with 5 fold cv to predict the groups\n",
        "text_clf2=Pipeline([('tfidf2',TfidfVectorizer()),\n",
        "                   ('clf2',SVC(kernel='linear',C=1,gamma='auto',probability=False,random_state=0)),])\n",
        "text_clf2.fit(x_train2,y_train2)"
      ],
      "execution_count": 77,
      "outputs": [
        {
          "output_type": "execute_result",
          "data": {
            "text/plain": [
              "Pipeline(steps=[('tfidf2', TfidfVectorizer()),\n",
              "                ('clf2',\n",
              "                 SVC(C=1, gamma='auto', kernel='linear', random_state=0))])"
            ]
          },
          "metadata": {},
          "execution_count": 77
        }
      ]
    },
    {
      "cell_type": "code",
      "metadata": {
        "id": "GhaMdMcgawA8"
      },
      "source": [
        "#predict the test data to check accuracy of groups\n",
        "SVM2predictions=text_clf2.predict(x_test2)"
      ],
      "execution_count": 78,
      "outputs": []
    },
    {
      "cell_type": "code",
      "metadata": {
        "id": "bQmU2wLHawA9",
        "colab": {
          "base_uri": "https://localhost:8080/"
        },
        "outputId": "e8859fbf-6a64-4591-95e9-81d7ebe93d79"
      },
      "source": [
        "#accuracy reports for the group\n",
        "print (metrics.classification_report(y_test2,SVM2predictions,target_names=group_names))"
      ],
      "execution_count": 79,
      "outputs": [
        {
          "output_type": "stream",
          "name": "stdout",
          "text": [
            "              precision    recall  f1-score   support\n",
            "\n",
            "           A       0.38      0.49      0.43       372\n",
            "           B       0.32      0.31      0.31       311\n",
            "           C       0.34      0.21      0.26       265\n",
            "\n",
            "    accuracy                           0.35       948\n",
            "   macro avg       0.34      0.34      0.33       948\n",
            "weighted avg       0.35      0.35      0.34       948\n",
            "\n"
          ]
        }
      ]
    },
    {
      "cell_type": "code",
      "metadata": {
        "id": "krN_-LMEawA9"
      },
      "source": [
        "##predict the group for scraped data\n",
        "for i in range(len(df2)):\n",
        "  pred2=text_clf2.predict(df2.iloc[i])\n",
        "  (group_names[pred2][0])"
      ],
      "execution_count": 80,
      "outputs": []
    },
    {
      "cell_type": "code",
      "metadata": {
        "id": "4tx8GbFO9L3N"
      },
      "source": [
        "#drop the text if the paragraph that has 0 or 1  words \n",
        "newdf=newdf.drop(newdf.index[small_index])"
      ],
      "execution_count": 82,
      "outputs": []
    },
    {
      "cell_type": "code",
      "metadata": {
        "id": "vEraHC3r9Nb-"
      },
      "source": [
        "#reset the index again\n",
        "newdf.reset_index(drop=True, inplace=True)"
      ],
      "execution_count": 83,
      "outputs": []
    },
    {
      "cell_type": "code",
      "metadata": {
        "id": "XO_SaXa-AP_c",
        "colab": {
          "base_uri": "https://localhost:8080/"
        },
        "outputId": "a3bd00bf-d76f-4504-cb98-084d96cda5df"
      },
      "source": [
        "#import nltk to tokenize the predicted data to be shown\n",
        "import nltk.data\n",
        "nltk.download('punkt')\n"
      ],
      "execution_count": 84,
      "outputs": [
        {
          "output_type": "stream",
          "name": "stdout",
          "text": [
            "[nltk_data] Downloading package punkt to /root/nltk_data...\n",
            "[nltk_data]   Unzipping tokenizers/punkt.zip.\n"
          ]
        },
        {
          "output_type": "execute_result",
          "data": {
            "text/plain": [
              "True"
            ]
          },
          "metadata": {},
          "execution_count": 84
        }
      ]
    },
    {
      "cell_type": "markdown",
      "metadata": {
        "id": "5Wf0W0QxEfoF"
      },
      "source": [
        "#Prediction"
      ]
    },
    {
      "cell_type": "code",
      "metadata": {
        "id": "h4qPQ6og-1bJ",
        "colab": {
          "base_uri": "https://localhost:8080/"
        },
        "outputId": "de9d5620-12ee-4986-c8ec-06833d2ff122"
      },
      "source": [
        "print(\"--------------------------------------------------------------\")\n",
        "for i in range(len(df2)):\n",
        "  pred=text_clf.predict(df2.iloc[i])\n",
        "  tokenizer = nltk.data.load('tokenizers/punkt/english.pickle')\n",
        "  data = newdf[0][i]\n",
        "  print(\"Paragraph Number: \", i+1)\n",
        "  print('\\n'.join(tokenizer.tokenize(data)))\n",
        "  print(\"Category :\")\n",
        "  print(category_name[pred][0])\n",
        "  print(\"Group :\")\n",
        "  print(group_names[pred2][0])\n",
        "  print(\"-----------------------------------------------------------\")"
      ],
      "execution_count": 85,
      "outputs": [
        {
          "output_type": "stream",
          "name": "stdout",
          "text": [
            "--------------------------------------------------------------\n",
            "Paragraph Number:  1\n",
            "\n",
            "            This web site is owned and operated by Brain4ce Education Solutions Private Limited (\"we\", \"our\", or \"us\" or the \"Company\").\n",
            "We understand and value your privacy.\n",
            "We want to make your experience online satisfying and safe.\n",
            "This privacy policy (the \"Policy\") governs information you provide to us or we learn from your use of this web site (the \"Site\") and constitutes a legal agreement between you, as the user of the Site, and the Company, as the owner of the Site.\n",
            "The Policy will also tell you how we may collect, use, and in some instances share this information.\n",
            "Our policies do not apply to third-party websites that are connected via links to our Site and may differ from other service offerings and you should carefully review the terms of service and this privacy notice before using these services.\n",
            "Category :\n",
            "Other\n",
            "Group :\n",
            "A\n",
            "-----------------------------------------------------------\n",
            "Paragraph Number:  2\n",
            "\n",
            "            In general, you can visit the Site without telling us who you are or revealing any personally identifiable information about yourself.\n",
            "By providing your Personal Information to us, you explicitly agree to our collection and use of such information as described in this Policy.\n",
            "Category :\n",
            "Other\n",
            "Group :\n",
            "A\n",
            "-----------------------------------------------------------\n",
            "Paragraph Number:  3\n",
            "\n",
            "            \n",
            "           If you choose to register, and are 13 years of age or older, we will collect and process such information\n",
            "            from you, including but not limited to the below mentioned(“Personal Information”):\n",
            "Category :\n",
            "International and Specific Audiences\n",
            "Group :\n",
            "A\n",
            "-----------------------------------------------------------\n",
            "Paragraph Number:  4\n",
            "\n",
            "                (a)\n",
            "              \tInformation that you provide to us by filling in forms.\n",
            "This includes contact information such as name, email address, mailing address, phone number, financial information, if any, unique identifiers such as preferences information such as favourites lists, transaction history.\n",
            "Category :\n",
            "First Party Collection/Use\n",
            "Group :\n",
            "A\n",
            "-----------------------------------------------------------\n",
            "Paragraph Number:  5\n",
            "\n",
            "                (b)\n",
            "              \tInformation that you provide when you write directly to us (including by e-mail).\n",
            "Category :\n",
            "First Party Collection/Use\n",
            "Group :\n",
            "A\n",
            "-----------------------------------------------------------\n",
            "Paragraph Number:  6\n",
            "\n",
            "                (c)\n",
            "             \tInformation that you provide to us by writing on our blogs;\n",
            "Category :\n",
            "Other\n",
            "Group :\n",
            "A\n",
            "-----------------------------------------------------------\n",
            "Paragraph Number:  7\n",
            "\n",
            "                (d)\n",
            "              \tInformation relating to logs is automatically reported by your browser each time you access our Site.\n",
            "When you use the Site, our servers automatically record certain information that your web browser sends whenever you visit any website.\n",
            "These server logs may include information such as your web request, Internet Protocol (IP) address, browser type, referring/ exit pages and URLs, number of clicks, domain names, landing pages, pages viewed, and other such information.\n",
            "We use this information, which does not identify users, to analyze trends and to gather demographic information about the user base as a whole.\n",
            "We do not link this automatically-collected data to personally identifiable information.\n",
            "Category :\n",
            "First Party Collection/Use\n",
            "Group :\n",
            "A\n",
            "-----------------------------------------------------------\n",
            "Paragraph Number:  8\n",
            "\n",
            "                (e)\n",
            "                   \tWe may collect information about your general internet usage by using a cookie file which is stored on the hard drive of your computer.\n",
            "Cookies help us improve our Site and deliver a better and personalized service.\n",
            "Cookies enable Us:\n",
            "\n",
            "\n",
            "                        i.to estimate Our users’ usage size and pattern;\n",
            "\n",
            "\n",
            "                        ii.to store information about your preferences, and allow us to customize our Site according to your interests;\n",
            "\n",
            "\n",
            "                        iii.to speed up your searches;\n",
            "Category :\n",
            "First Party Collection/Use\n",
            "Group :\n",
            "A\n",
            "-----------------------------------------------------------\n",
            "Paragraph Number:  9\n",
            "\n",
            "                        i.to estimate Our users’ usage size and pattern;\n",
            "Category :\n",
            "Other\n",
            "Group :\n",
            "A\n",
            "-----------------------------------------------------------\n",
            "Paragraph Number:  10\n",
            "\n",
            "                        ii.to store information about your preferences, and allow us to customize our Site according to your interests;\n",
            "Category :\n",
            "First Party Collection/Use\n",
            "Group :\n",
            "A\n",
            "-----------------------------------------------------------\n",
            "Paragraph Number:  11\n",
            "\n",
            "                        iii.to speed up your searches;\n",
            "Category :\n",
            "Other\n",
            "Group :\n",
            "A\n",
            "-----------------------------------------------------------\n",
            "Paragraph Number:  12\n",
            "\n",
            "                (f)\tto recognize you when you return to our Site.\n",
            "Category :\n",
            "Other\n",
            "Group :\n",
            "A\n",
            "-----------------------------------------------------------\n",
            "Paragraph Number:  13\n",
            "\n",
            "            We use the information we collect for following purposes, including:\n",
            "Category :\n",
            "Other\n",
            "Group :\n",
            "A\n",
            "-----------------------------------------------------------\n",
            "Paragraph Number:  14\n",
            "\n",
            "                (a)\n",
            "              \tTo provide, personalise, maintain and improve our products and services, such as to enable support and other services, enable features to personalise your edureka account;\n",
            "Category :\n",
            "First Party Collection/Use\n",
            "Group :\n",
            "A\n",
            "-----------------------------------------------------------\n",
            "Paragraph Number:  15\n",
            "\n",
            "                (b)\n",
            "              \tTo carry out our obligations arising from any contracts entered into between you and us and to provide you with the relevant information and services;\n",
            "Category :\n",
            "First Party Collection/Use\n",
            "Group :\n",
            "A\n",
            "-----------------------------------------------------------\n",
            "Paragraph Number:  16\n",
            "\n",
            "                (c)\n",
            "              \tTo administer and enhance the security of our edureka Platform and for internal operations, including troubleshooting, data analysis, testing, research, statistical and survey purposes;\n",
            "Category :\n",
            "First Party Collection/Use\n",
            "Group :\n",
            "A\n",
            "-----------------------------------------------------------\n",
            "Paragraph Number:  17\n",
            "\n",
            "                (d)\n",
            "              \tTo provide you with information about services we consider similar to those that you are already using, or have enquired about, or may interest you such as promotional offers.\n",
            "If you are a registered user, we will contact you by electronic means (e-mail or push notifications or SMS or telephone) with information about these services;\n",
            "Category :\n",
            "First Party Collection/Use\n",
            "Group :\n",
            "A\n",
            "-----------------------------------------------------------\n",
            "Paragraph Number:  18\n",
            "\n",
            "                (e)\n",
            "              \tTo understand our users (what they do on our Services, what features they like, how they use them, etc.\n",
            "), improve the content and features of our Services (such as by personalizing content to your interests), process and complete your transactions, make special offers, provide customer support, process and respond to your queries;\n",
            "Category :\n",
            "First Party Collection/Use\n",
            "Group :\n",
            "A\n",
            "-----------------------------------------------------------\n",
            "Paragraph Number:  19\n",
            "\n",
            "                (f)\n",
            "              \tTo generate and review reports and data about, and to conduct research on, our user base and Service usage patterns;\n",
            "Category :\n",
            "First Party Collection/Use\n",
            "Group :\n",
            "A\n",
            "-----------------------------------------------------------\n",
            "Paragraph Number:  20\n",
            "\n",
            "                (g)\n",
            "              \tTo allow you to participate in interactive features of our Services, if any; or\n",
            "Category :\n",
            "First Party Collection/Use\n",
            "Group :\n",
            "A\n",
            "-----------------------------------------------------------\n",
            "Paragraph Number:  21\n",
            "\n",
            "                (h)\n",
            "              \tTo measure or understand the effectiveness of advertising we serve to you and others, and to deliver relevant advertising to you.\n",
            "Category :\n",
            "First Party Collection/Use\n",
            "Group :\n",
            "A\n",
            "-----------------------------------------------------------\n",
            "Paragraph Number:  22\n",
            "\n",
            "                (i)\n",
            "              \tTo remind you of completing payments to obtain course access and remind you about class timings or class reschedule or class cancellations if any\n",
            "Category :\n",
            "Other\n",
            "Group :\n",
            "A\n",
            "-----------------------------------------------------------\n",
            "Paragraph Number:  23\n",
            "\n",
            "                We may combine the information that we receive from third parties with the information you give to us and information we collect about you for the purposes set out above.\n",
            "Further, we may anonymize and/or de-identify information collected from you through the Services or via other means, including via the use of third-party web analytic tools.\n",
            "As a result, our use and disclosure of aggregated and/or de-identified information is not restricted by this Policy, and it may be used and disclosed to others without limitation.\n",
            "Category :\n",
            "First Party Collection/Use\n",
            "Group :\n",
            "A\n",
            "-----------------------------------------------------------\n",
            "Paragraph Number:  24\n",
            "\n",
            "                We analyse the log files of our edureka Platform that may contain Internet Protocol (IP) addresses, browser type and language, Internet service provider (ISP), referring, app crashes, page viewed and exit websites and applications, operating system, date/time stamp, and clickstream data.\n",
            "This helps us to administer the website, to learn about user behavior on the site, to improve our product and services, and to gather demographic information about our user base as a whole.\n",
            "Category :\n",
            "First Party Collection/Use\n",
            "Group :\n",
            "A\n",
            "-----------------------------------------------------------\n",
            "Paragraph Number:  25\n",
            "\n",
            "            We are committed to protecting children's privacy online.\n",
            "This Site is intended for users above the age of 13.\n",
            "We do not knowingly collect payment related information from children.\n",
            "Category :\n",
            "International and Specific Audiences\n",
            "Group :\n",
            "A\n",
            "-----------------------------------------------------------\n",
            "Paragraph Number:  26\n",
            "\n",
            "            If you use or provide services on the Site for which we implement a billing system for you, we will collect additional information from you so that we can process and collect billing information.\n",
            "For example, we may collect your mailing address to remit payments.\n",
            "Category :\n",
            "First Party Collection/Use\n",
            "Group :\n",
            "A\n",
            "-----------------------------------------------------------\n",
            "Paragraph Number:  27\n",
            "\n",
            "            The Site uses software tags called \"Cookies\" to identify customers when they visit our Site.\n",
            "Cookies are used to remember user preferences and maximize performance of our services.\n",
            "The information we collect with cookies is not sold, rented, or shared with any outside parties.\n",
            "Users who disable their Web browser's ability to accept cookies will be able to browse our Site but may not be able to successfully use our Service.\n",
            "Category :\n",
            "First Party Collection/Use\n",
            "Group :\n",
            "A\n",
            "-----------------------------------------------------------\n",
            "Paragraph Number:  28\n",
            "\n",
            "            We use both session ID cookies and persistent cookies.\n",
            "A session ID cookie expires when you close your browser.\n",
            "A persistent cookie remains on your hard drive for an extended period of time.\n",
            "You can remove persistent cookies by following directions provided in your Internet browser's \"help\" file.\n",
            "Persistent cookies enable us to track and target the interests of our users to enhance the experience on our Site.\n",
            "Category :\n",
            "First Party Collection/Use\n",
            "Group :\n",
            "A\n",
            "-----------------------------------------------------------\n",
            "Paragraph Number:  29\n",
            "\n",
            "            This privacy policy covers the use of cookies by our Site only and does not cover the use of cookies by any advertisers.\n",
            "Category :\n",
            "Other\n",
            "Group :\n",
            "A\n",
            "-----------------------------------------------------------\n",
            "Paragraph Number:  30\n",
            "\n",
            "            We may from time to time engage third parties to track and analyze non-personally identifiable usage and volume statistical information from visitors to our Site to help us administer our Site and improve its quality.\n",
            "Such third parties may use cookies to help track visitor behaviour.\n",
            "Such cookies will not be used to associate individual Site visitors to any Personal Information.\n",
            "All data collected by such third parties on our behalf is used only to provide us with information on Site usage and is not shared with any other third parties.\n",
            "Category :\n",
            "Third Party Sharing/Collection\n",
            "Group :\n",
            "A\n",
            "-----------------------------------------------------------\n",
            "Paragraph Number:  31\n",
            "\n",
            "            Web pages may contain an electronic file called a web beacon that allows a web site to count users who have visited that page or to access certain cookies.\n",
            "We may use web beacons in the following ways:\n",
            "Category :\n",
            "First Party Collection/Use\n",
            "Group :\n",
            "A\n",
            "-----------------------------------------------------------\n",
            "Paragraph Number:  32\n",
            "\n",
            "            •\tWe use web beacons within the Site in order to count users and to recognize users by accessing our cookies.\n",
            "Category :\n",
            "First Party Collection/Use\n",
            "Group :\n",
            "A\n",
            "-----------------------------------------------------------\n",
            "Paragraph Number:  33\n",
            "\n",
            "            •\tBeing able to access our cookies allows us to personalize your user experience.\n",
            "Category :\n",
            "First Party Collection/Use\n",
            "Group :\n",
            "A\n",
            "-----------------------------------------------------------\n",
            "Paragraph Number:  34\n",
            "\n",
            "            •In general, any file served as part of a web page, including an ad banner, can act as a web beacon.\n",
            "Category :\n",
            "Other\n",
            "Group :\n",
            "A\n",
            "-----------------------------------------------------------\n",
            "Paragraph Number:  35\n",
            "\n",
            "             Our Site may, from time to time, contain links to and from the websites of our affiliated merchants, partner networks, affiliates and other third parties.\n",
            "The inclusion of a link does not imply any endorsement by us of the third party website, the website's provider, or the information on the third party website.\n",
            "If you follow a link to any of these websites, please note that these websites may be governed by their own privacy policies and we disclaim all responsibility or liability with respect to these policies or the websites.\n",
            "Please check these policies and the terms of the websites before you submit any information to these websites.\n",
            "Category :\n",
            "Other\n",
            "Group :\n",
            "A\n",
            "-----------------------------------------------------------\n",
            "Paragraph Number:  36\n",
            "\n",
            "            We maintain log files of the traffic that visits our Site.\n",
            "We do not link any information gathered in these log files to Personal Information.\n",
            "Log files are used to manage traffic loads and information technology requirements for providing reliable service.\n",
            "Information collected includes IP addresses and browser types.\n",
            "Category :\n",
            "First Party Collection/Use\n",
            "Group :\n",
            "A\n",
            "-----------------------------------------------------------\n",
            "Paragraph Number:  37\n",
            "\n",
            "            All information you provide to us is stored on our secure servers.\n",
            "As a registered user with an account and a password, you are responsible for keeping your password confidential.\n",
            "We take commercially reasonable safeguards to protect and preserve the integrity and security of your Personal Information submitted to us, both during transmission and once we receive it against loss, theft, unauthorised access, disclosure, reproduction, use or amendment.\n",
            "No method of transmission over the Internet, or method of electronic storage, is 100% secure.\n",
            "Therefore, while we strive to use commercially reasonable means to protect your Personal Information, we assume no liability for any disclosure of information due to errors in transmission, unauthorised third party access or other acts of third parties, or acts or omissions beyond our reasonable control and you agree that you will not hold us responsible for any breach of security unless such breach has been caused as a direct result of our gross negligence or wilful default..\n",
            "If we learn of a security systems breach we may attempt to notify you electronically so that you can take appropriate protective steps.\n",
            "By using this Site or providing personal information to us you agree that we can communicate with you electronically regarding security, privacy, and administrative issues relating to your use of this site.\n",
            "We may post a notice on our Site if a security breach occurs.\n",
            "We may also send an email to you at the email address you have provided to us in these circumstances.\n",
            "Depending on where you live, you may have a legal right to receive notice of a security breach in writing.\n",
            "Category :\n",
            "Data Security\n",
            "Group :\n",
            "A\n",
            "-----------------------------------------------------------\n",
            "Paragraph Number:  38\n",
            "\n",
            "            We will keep Personal Information of our users for as long as they are registered subscribers or users of our products and services, and as permitted by law.\n",
            "Category :\n",
            "First Party Collection/Use\n",
            "Group :\n",
            "A\n",
            "-----------------------------------------------------------\n",
            "Paragraph Number:  39\n",
            "\n",
            "            If you have purchased Edureka course, we may ask you for testimonial, we will display your testimonial on our website, photos and videos or in our social media channels such as Facebook, YouTube or Flickr.\n",
            "You should be aware that your publicly identifiable information could be used to send you promotional, unsolicited messages.\n",
            "We are not responsible for your personal information which you have chosen to display.\n",
            "If you don't want us to feature your pictures/testimonials on our website or on our social media channels, you can raise a support ticket from your Edureka Log in.\n",
            "Category :\n",
            "First Party Collection/Use\n",
            "Group :\n",
            "A\n",
            "-----------------------------------------------------------\n",
            "Paragraph Number:  40\n",
            "\n",
            "            \n",
            "        You can contact us if you notice that the information we are holding is incorrect or incomplete.\n",
            "Please raise a support ticket from your Edureka Log in.\n",
            "Category :\n",
            "Other\n",
            "Group :\n",
            "A\n",
            "-----------------------------------------------------------\n",
            "Paragraph Number:  41\n",
            "\n",
            "            This Site may contain links to other web sites.\n",
            "The Company cannot and does not control the privacy practices of any such sites.\n",
            "You should review the privacy policy on any web site where you may submit personal information before providing it to any web site.\n",
            "Category :\n",
            "Other\n",
            "Group :\n",
            "A\n",
            "-----------------------------------------------------------\n",
            "Paragraph Number:  42\n",
            "\n",
            "            If you choose to register for our products and services, we will send you certain promotional emails.\n",
            "Promotional emails advertise our products and services and/or the products and services of our Users and Affiliates.\n",
            "If you do not want to receive promotional emails from us, you may elect to opt-out of receiving promotional emails at any time by hitting the \"unsubscribe\" button at the bottom of any of our e-mails.\n",
            "Category :\n",
            "User Choice/Control\n",
            "Group :\n",
            "A\n",
            "-----------------------------------------------------------\n",
            "Paragraph Number:  43\n",
            "\n",
            "            From the 25th of May, 2018, the processing of Personal Information of ‘users based in the European Union\n",
            "            (“EU”) is subject to the .\n",
            "This\n",
            "            section\n",
            "            provides\n",
            "            information as relates to EU users' rights, and our responsibilities, under this regulation.\n",
            "Category :\n",
            "International and Specific Audiences\n",
            "Group :\n",
            "A\n",
            "-----------------------------------------------------------\n",
            "Paragraph Number:  44\n",
            "\n",
            "                (A)DATA TRANSFERS\n",
            "\n",
            "              \tCompany is headquartered in the India, and we have operations, entities, and service providers in the Information and throughout the world.\n",
            "As such, we and our service providers may transfer your Personal Information to, or store or access it in, jurisdictions that may not provide equivalent levels of data protection as your home jurisdiction.\n",
            "We will take steps to ensure that your Personal Information receives an adequate level of protection in the jurisdictions in which we process it.\n",
            "If you are in the EU, we provide adequate protection for the transfer of Personal Information to countries outside of the EU through a series of intercompany agreements based on the standard contractual clauses authorized under EU law.\n",
            "You are entitled to obtain a copy of these agreements by contacting us as described below.\n",
            "Category :\n",
            "International and Specific Audiences\n",
            "Group :\n",
            "A\n",
            "-----------------------------------------------------------\n",
            "Paragraph Number:  45\n",
            "\n",
            "              \tCompany is headquartered in the India, and we have operations, entities, and service providers in the Information and throughout the world.\n",
            "As such, we and our service providers may transfer your Personal Information to, or store or access it in, jurisdictions that may not provide equivalent levels of data protection as your home jurisdiction.\n",
            "We will take steps to ensure that your Personal Information receives an adequate level of protection in the jurisdictions in which we process it.\n",
            "If you are in the EU, we provide adequate protection for the transfer of Personal Information to countries outside of the EU through a series of intercompany agreements based on the standard contractual clauses authorized under EU law.\n",
            "You are entitled to obtain a copy of these agreements by contacting us as described below.\n",
            "Category :\n",
            "International and Specific Audiences\n",
            "Group :\n",
            "A\n",
            "-----------------------------------------------------------\n",
            "Paragraph Number:  46\n",
            "\n",
            "            (B)ACCESS TO PERSONAL INFORMATION\n",
            "\n",
            "              \tWe rely on consent in connection with Personal Information collections or uses that are necessary to enhance the user experience, to enable optional services or features, or to communicate with you.\n",
            "Withdrawal of consent\n",
            "We believe that we are only entitled to access or use your Personal Information\n",
            "                                as long\n",
            "                                as we have your consent to do so.\n",
            "Whenever we rely on your consent, you will always\n",
            "                                be able to withdraw that consent.\n",
            "Erasure\n",
            "We will also erase all your Personal Information that we\n",
            "                               hold, upon your request to\n",
            "                               us to do so.\n",
            "Provided that we may decline to process your request if we believe that\n",
            "                               doing so could impede the right of freedom of expression and information of others or\n",
            "                               when doing so is contrary to the local applicable laws.\n",
            "Access to personal information\n",
            "We are committed to be completely transparent vis-à-vis the Personal\n",
            "                                Information\n",
            "                                that we hold.\n",
            "You can ask us to share with you all the Personal Information that we hold of yours, and we will do so.\n",
            "Rectification\n",
            "                            In case you feel that your Personal Information with us is inaccurate, we allow you to have it rectified by placing a request with us in that regard.\n",
            "We may decline to process requests that are frivolous/ vexatious, can jeopardize the privacy of others, and processing which would be highly impractical.\n",
            "For placing a request to exercise any of these rights, you can get in touch with us or our data protection officer – using the details set out below.\n",
            "Additionally, our website allows you to edit your personal information by accessing the “my account,” “my profile,” or a similar feature.\n",
            "Similarly, you can delete other files or information you have stored by logging in and using the available functions to delete.\n",
            "Category :\n",
            "User Access, Edit and Deletion\n",
            "Group :\n",
            "A\n",
            "-----------------------------------------------------------\n",
            "Paragraph Number:  47\n",
            "\n",
            "              \tWe rely on consent in connection with Personal Information collections or uses that are necessary to enhance the user experience, to enable optional services or features, or to communicate with you.\n",
            "Category :\n",
            "First Party Collection/Use\n",
            "Group :\n",
            "A\n",
            "-----------------------------------------------------------\n",
            "Paragraph Number:  48\n",
            "\n",
            "Withdrawal of consent\n",
            "We believe that we are only entitled to access or use your Personal Information\n",
            "                                as long\n",
            "                                as we have your consent to do so.\n",
            "Whenever we rely on your consent, you will always\n",
            "                                be able to withdraw that consent.\n",
            "Category :\n",
            "Other\n",
            "Group :\n",
            "A\n",
            "-----------------------------------------------------------\n",
            "Paragraph Number:  49\n",
            "Withdrawal of consent\n",
            "Category :\n",
            "User Choice/Control\n",
            "Group :\n",
            "A\n",
            "-----------------------------------------------------------\n",
            "Paragraph Number:  50\n",
            "We believe that we are only entitled to access or use your Personal Information\n",
            "                                as long\n",
            "                                as we have your consent to do so.\n",
            "Whenever we rely on your consent, you will always\n",
            "                                be able to withdraw that consent.\n",
            "Category :\n",
            "Other\n",
            "Group :\n",
            "A\n",
            "-----------------------------------------------------------\n",
            "Paragraph Number:  51\n",
            "\n",
            "Erasure\n",
            "We will also erase all your Personal Information that we\n",
            "                               hold, upon your request to\n",
            "                               us to do so.\n",
            "Provided that we may decline to process your request if we believe that\n",
            "                               doing so could impede the right of freedom of expression and information of others or\n",
            "                               when doing so is contrary to the local applicable laws.\n",
            "Category :\n",
            "First Party Collection/Use\n",
            "Group :\n",
            "A\n",
            "-----------------------------------------------------------\n",
            "Paragraph Number:  52\n",
            "We will also erase all your Personal Information that we\n",
            "                               hold, upon your request to\n",
            "                               us to do so.\n",
            "Provided that we may decline to process your request if we believe that\n",
            "                               doing so could impede the right of freedom of expression and information of others or\n",
            "                               when doing so is contrary to the local applicable laws.\n",
            "Category :\n",
            "First Party Collection/Use\n",
            "Group :\n",
            "A\n",
            "-----------------------------------------------------------\n",
            "Paragraph Number:  53\n",
            "\n",
            "Access to personal information\n",
            "We are committed to be completely transparent vis-à-vis the Personal\n",
            "                                Information\n",
            "                                that we hold.\n",
            "You can ask us to share with you all the Personal Information that we hold of yours, and we will do so.\n",
            "Category :\n",
            "Other\n",
            "Group :\n",
            "A\n",
            "-----------------------------------------------------------\n",
            "Paragraph Number:  54\n",
            "Access to personal information\n",
            "Category :\n",
            "User Access, Edit and Deletion\n",
            "Group :\n",
            "A\n",
            "-----------------------------------------------------------\n",
            "Paragraph Number:  55\n",
            "We are committed to be completely transparent vis-à-vis the Personal\n",
            "                                Information\n",
            "                                that we hold.\n",
            "You can ask us to share with you all the Personal Information that we hold of yours, and we will do so.\n",
            "Category :\n",
            "Other\n",
            "Group :\n",
            "A\n",
            "-----------------------------------------------------------\n",
            "Paragraph Number:  56\n",
            "\n",
            "Rectification\n",
            "                            In case you feel that your Personal Information with us is inaccurate, we allow you to have it rectified by placing a request with us in that regard.\n",
            "Category :\n",
            "Other\n",
            "Group :\n",
            "A\n",
            "-----------------------------------------------------------\n",
            "Paragraph Number:  57\n",
            "\n",
            "                We may decline to process requests that are frivolous/ vexatious, can jeopardize the privacy of others, and processing which would be highly impractical.\n",
            "For placing a request to exercise any of these rights, you can get in touch with us or our data protection officer – using the details set out below.\n",
            "Category :\n",
            "Other\n",
            "Group :\n",
            "A\n",
            "-----------------------------------------------------------\n",
            "Paragraph Number:  58\n",
            "\n",
            "                    Additionally, our website allows you to edit your personal information by accessing the “my account,” “my profile,” or a similar feature.\n",
            "Similarly, you can delete other files or information you have stored by logging in and using the available functions to delete.\n",
            "Category :\n",
            "User Access, Edit and Deletion\n",
            "Group :\n",
            "A\n",
            "-----------------------------------------------------------\n",
            "Paragraph Number:  59\n",
            "\n",
            "            (C)OBJECTIONS AND COMPLAINTS\n",
            "Category :\n",
            "Other\n",
            "Group :\n",
            "A\n",
            "-----------------------------------------------------------\n",
            "Paragraph Number:  60\n",
            "\n",
            "                    Users from and in the EU have the right to object to our processing of Personal Information.\n",
            "Category :\n",
            "Other\n",
            "Group :\n",
            "A\n",
            "-----------------------------------------------------------\n",
            "Paragraph Number:  61\n",
            "\n",
            "                    Users in the EU also have the right to file a complaint relating to our handling of your Personal    Information.\n",
            "Category :\n",
            "Other\n",
            "Group :\n",
            "A\n",
            "-----------------------------------------------------------\n",
            "Paragraph Number:  62\n",
            "\n",
            "                To file a complaint or objection, please raise a ticket from your Edureka Log in.\n",
            "Category :\n",
            "Other\n",
            "Group :\n",
            "A\n",
            "-----------------------------------------------------------\n",
            "Paragraph Number:  63\n",
            "\n",
            "            (D)GROUNDS OF PROCESSING\n",
            "\n",
            "                When we process your Personal Information, we will only do so in the following situations:\n",
            "            \n",
            "\n",
            "We need to use your Personal Information to perform our responsibilities in relation to Services provided to you.\n",
            "We have a legitimate interest in processing your Personal Information.\n",
            "For example, we have a legitimate interest in processing your Personal Information to provide, secure, and improve our Services, in communicating with you about changes to our Services, and in informing you about new services or products.\n",
            "The processing is necessary to fulfil Company's legal obligations.\n",
            "Company is subject to legal requirements in the jurisdictions in which it operates that require us to collect, process, disclose and retain your Personal Information.\n",
            "Company may also share information with law enforcement, or requests by third parties pursuant to legal processes.\n",
            "Category :\n",
            "Third Party Sharing/Collection\n",
            "Group :\n",
            "A\n",
            "-----------------------------------------------------------\n",
            "Paragraph Number:  64\n",
            "\n",
            "                When we process your Personal Information, we will only do so in the following situations:\n",
            "Category :\n",
            "Other\n",
            "Group :\n",
            "A\n",
            "-----------------------------------------------------------\n",
            "Paragraph Number:  65\n",
            "We need to use your Personal Information to perform our responsibilities in relation to Services provided to you.\n",
            "Category :\n",
            "Other\n",
            "Group :\n",
            "A\n",
            "-----------------------------------------------------------\n",
            "Paragraph Number:  66\n",
            "We have a legitimate interest in processing your Personal Information.\n",
            "For example, we have a legitimate interest in processing your Personal Information to provide, secure, and improve our Services, in communicating with you about changes to our Services, and in informing you about new services or products.\n",
            "Category :\n",
            "First Party Collection/Use\n",
            "Group :\n",
            "A\n",
            "-----------------------------------------------------------\n",
            "Paragraph Number:  67\n",
            "The processing is necessary to fulfil Company's legal obligations.\n",
            "Company is subject to legal requirements in the jurisdictions in which it operates that require us to collect, process, disclose and retain your Personal Information.\n",
            "Company may also share information with law enforcement, or requests by third parties pursuant to legal processes.\n",
            "Category :\n",
            "Third Party Sharing/Collection\n",
            "Group :\n",
            "A\n",
            "-----------------------------------------------------------\n",
            "Paragraph Number:  68\n",
            "\n",
            "            (E)SECURITY REQUIREMENT\n",
            "We are well placed to meet the security requirements of the GDPR.\n",
            "Our services are backed by\n",
            "                    robust,\n",
            "                    state-of-the-art technical and organizational safeguards, dedicated security and privacy teams.\n",
            "Category :\n",
            "Data Security\n",
            "Group :\n",
            "A\n",
            "-----------------------------------------------------------\n",
            "Paragraph Number:  69\n",
            "We are well placed to meet the security requirements of the GDPR.\n",
            "Our services are backed by\n",
            "                    robust,\n",
            "                    state-of-the-art technical and organizational safeguards, dedicated security and privacy teams.\n",
            "Category :\n",
            "Data Security\n",
            "Group :\n",
            "A\n",
            "-----------------------------------------------------------\n",
            "Paragraph Number:  70\n",
            "\n",
            "            (F)TRANSFER OF PERSONAL INFORMATION TO THIRD COUNTRIES\n",
            "We will ensure that transfer of Personal Information of users of the EU shall only take place\n",
            "                  where the EU Commission has decided that the third country, a territory or one or more specified sectors within that third country, or the international organisation in question ensures an adequate level of protection.\n",
            "Albeit, it shall be done without any specific authorization.\n",
            "Category :\n",
            "International and Specific Audiences\n",
            "Group :\n",
            "A\n",
            "-----------------------------------------------------------\n",
            "Paragraph Number:  71\n",
            "We will ensure that transfer of Personal Information of users of the EU shall only take place\n",
            "                  where the EU Commission has decided that the third country, a territory or one or more specified sectors within that third country, or the international organisation in question ensures an adequate level of protection.\n",
            "Albeit, it shall be done without any specific authorization.\n",
            "Category :\n",
            "International and Specific Audiences\n",
            "Group :\n",
            "A\n",
            "-----------------------------------------------------------\n",
            "Paragraph Number:  72\n",
            "\n",
            "We reserve the right to disclose your Personal Information as required by law and when we believe that disclosure doing so in the Company's interest to protect its property or other legal rights or the rights or property of others.\n",
            "Category :\n",
            "Third Party Sharing/Collection\n",
            "Group :\n",
            "A\n",
            "-----------------------------------------------------------\n",
            "Paragraph Number:  73\n",
            "\n",
            "            This Policy shall be governed by and construed in accordance with the laws of the Republic of India.\n",
            "Subject to arbitration, the courts at Bangalore shall have exclusive jurisdiction in relation to any disputes arising out of or in connection with this Policy.\n",
            "Category :\n",
            "Other\n",
            "Group :\n",
            "A\n",
            "-----------------------------------------------------------\n",
            "Paragraph Number:  74\n",
            "\n",
            "            If any dispute arises between the Company and You in connection with or arising out of the validity, interpretation, implementation or alleged breach of any provision of the Policy, such dispute shall be referred to arbitration in accordance with the Indian Arbitration and Conciliation Act, 1996 for the time being in force.\n",
            "Arbitration shall be conducted by one (1) arbitrator mutually appointed by the Company and You.\n",
            "The seat of arbitration shall be Bangalore, Karnataka.\n",
            "The language of the arbitration proceedings and of all written decisions and correspondence relating to the arbitration shall be English.\n",
            "Category :\n",
            "Other\n",
            "Group :\n",
            "A\n",
            "-----------------------------------------------------------\n",
            "Paragraph Number:  75\n",
            "\n",
            "            This Site is operated in the India.\n",
            "If you are visiting from other regions with laws governing data collection and use that may differ from Indian law, please note that you are transferring your personal data to India, which does not have the same data protection laws and by providing your personal data you consent to:\n",
            "Category :\n",
            "International and Specific Audiences\n",
            "Group :\n",
            "A\n",
            "-----------------------------------------------------------\n",
            "Paragraph Number:  76\n",
            "\n",
            "                •\tThe use of your personal data for the uses identified above in accordance with this Privacy Policy; and\n",
            "Category :\n",
            "Other\n",
            "Group :\n",
            "A\n",
            "-----------------------------------------------------------\n",
            "Paragraph Number:  77\n",
            "\n",
            "                •\tThe transfer of your personal data to the India as indicated above.\n",
            "Category :\n",
            "Other\n",
            "Group :\n",
            "A\n",
            "-----------------------------------------------------------\n",
            "Paragraph Number:  78\n",
            "\n",
            "            The Company is also not making any representation that the content contained on the Product is appropriate or to be used or accessed outside of the Republic of India and your use or access of the Site from outside the Republic of India, is at your own risk and you are responsible for compliance with the laws of such jurisdiction.\n",
            "Category :\n",
            "Third Party Sharing/Collection\n",
            "Group :\n",
            "A\n",
            "-----------------------------------------------------------\n",
            "Paragraph Number:  79\n",
            "\n",
            "            If the Company should ever file for bankruptcy or have its assets sold to or merge with another entity, information the Company receives from you from this Site is a Company asset that may be transferred in connection with these types of corporate events.\n",
            "Category :\n",
            "Third Party Sharing/Collection\n",
            "Group :\n",
            "A\n",
            "-----------------------------------------------------------\n",
            "Paragraph Number:  80\n",
            "\n",
            "            We may occasionally update this Privacy Policy.\n",
            "When we do, we will also revise the \"last updated\" date on the Privacy Policy.\n",
            "For changes to this Privacy Policy that may be materially less restrictive on our use or disclosure of personal information you have provided to us, we will attempt to obtain your consent before implementing the change.\n",
            "We encourage you to periodically review this Privacy Policy to stay informed about how we are protecting the personal information we collect.\n",
            "Your continued use of this Site constitutes your agreement to this Privacy Policy and any updates.\n",
            "Category :\n",
            "Policy Change\n",
            "Group :\n",
            "A\n",
            "-----------------------------------------------------------\n",
            "Paragraph Number:  81\n",
            "\n",
            "        If you have questions or concerns regarding this Policy, please contact us either by raising a support ticket from your Edureka Log in or by contacting us on our support phone number.\n",
            "Address\n",
            "Edureka.co\n",
            "       IndiQube ETA \n",
            "        3rd Floor, No.38/4,\n",
            "        Adjacent to Dell EMC2, Dodanekundi,\n",
            "        Outer Ring Road, Bengaluru,\n",
            "        Karnataka - 560048\n",
            "Category :\n",
            "Other\n",
            "Group :\n",
            "A\n",
            "-----------------------------------------------------------\n",
            "Paragraph Number:  82\n",
            "\n",
            "            If you have a grievance regarding our services, please reach out to\n",
            "Category :\n",
            "Other\n",
            "Group :\n",
            "A\n",
            "-----------------------------------------------------------\n"
          ]
        }
      ]
    },
    {
      "cell_type": "code",
      "metadata": {
        "id": "D9BdwltjcN1P"
      },
      "source": [
        ""
      ],
      "execution_count": null,
      "outputs": []
    }
  ]
}