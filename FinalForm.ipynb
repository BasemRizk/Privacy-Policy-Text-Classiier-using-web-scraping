{
 "cells": [
  {
   "cell_type": "markdown",
   "metadata": {
    "id": "A-Tl3ln7Ek4W"
   },
   "source": [
    "#Install Packages"
   ]
  },
  {
   "cell_type": "code",
   "execution_count": 1,
   "metadata": {
    "colab": {
     "base_uri": "https://localhost:8080/"
    },
    "id": "tWwxvDtQdIIS",
    "outputId": "7dbf2091-7093-4c5d-9682-9083fe228a66"
   },
   "outputs": [
    {
     "name": "stdout",
     "output_type": "stream",
     "text": [
      "Requirement already satisfied: lxml in e:\\films\\anaconda\\lib\\site-packages (4.6.3)\n",
      "Note: you may need to restart the kernel to use updated packages.\n"
     ]
    }
   ],
   "source": [
    " pip install lxml"
   ]
  },
  {
   "cell_type": "code",
   "execution_count": 2,
   "metadata": {
    "id": "E1pgJ94udKPa"
   },
   "outputs": [],
   "source": [
    "import requests \n",
    "from bs4 import BeautifulSoup\n",
    "import csv\n",
    "import pandas as pd\n",
    "from itertools import zip_longest"
   ]
  },
  {
   "cell_type": "code",
   "execution_count": 3,
   "metadata": {
    "id": "uiOwewUmpnuT"
   },
   "outputs": [],
   "source": [
    "key_words=['Privacy Policy','Terms and Conditions','Terms in Use','Terms & Conditions','Privacy Notice','privacy policy']"
   ]
  },
  {
   "cell_type": "code",
   "execution_count": 4,
   "metadata": {
    "id": "R_ixesX7dLwc"
   },
   "outputs": [],
   "source": [
    "texts=[]"
   ]
  },
  {
   "cell_type": "markdown",
   "metadata": {
    "id": "tWMmN-eqCBsE"
   },
   "source": [
    "#Enter URL"
   ]
  },
  {
   "cell_type": "code",
   "execution_count": 5,
   "metadata": {
    "id": "P_OlGmeXB8OV"
   },
   "outputs": [],
   "source": [
    "URL=\"https://www.edureka.co/privacy-policy\"\n",
    "result=requests.get(URL)\n"
   ]
  },
  {
   "cell_type": "markdown",
   "metadata": {
    "id": "loQITpfwEbMM"
   },
   "source": [
    "#Model Processing"
   ]
  },
  {
   "cell_type": "code",
   "execution_count": 6,
   "metadata": {
    "id": "dcKdtwz0dPJE"
   },
   "outputs": [],
   "source": [
    "src=result.content"
   ]
  },
  {
   "cell_type": "code",
   "execution_count": 7,
   "metadata": {
    "id": "VTOMFm-QdQzu"
   },
   "outputs": [],
   "source": [
    "soup=BeautifulSoup(src,\"lxml\")"
   ]
  },
  {
   "cell_type": "code",
   "execution_count": 8,
   "metadata": {
    "id": "o1Ly4uCD1Sd1"
   },
   "outputs": [],
   "source": [
    "try:\n",
    "    footer=soup.footer\n",
    "    footer.decompose()\n",
    "except:\n",
    "    True"
   ]
  },
  {
   "cell_type": "code",
   "execution_count": 9,
   "metadata": {
    "id": "fFMbzd0B2e8Q"
   },
   "outputs": [],
   "source": [
    "try:\n",
    "    header=soup.header\n",
    "    header.decompose()\n",
    "except:\n",
    "    True"
   ]
  },
  {
   "cell_type": "code",
   "execution_count": 10,
   "metadata": {},
   "outputs": [],
   "source": [
    "try:\n",
    "    links=soup.a\n",
    "    links.decompose()\n",
    "except:\n",
    "    True"
   ]
  },
  {
   "cell_type": "code",
   "execution_count": 11,
   "metadata": {
    "id": "ZEZpk0bR4JjG"
   },
   "outputs": [],
   "source": [
    "text=soup.find_all([\"p\",\"li\",\"th\",\"td\"])"
   ]
  },
  {
   "cell_type": "code",
   "execution_count": 12,
   "metadata": {},
   "outputs": [],
   "source": [
    "for i in range(1000):\n",
    "    try:\n",
    "        links=soup.a\n",
    "        links.decompose()\n",
    "    except:\n",
    "        True"
   ]
  },
  {
   "cell_type": "code",
   "execution_count": 13,
   "metadata": {
    "id": "rHpJhhd7dVUM"
   },
   "outputs": [],
   "source": [
    "for i in range(len(text)):\n",
    "  texts.append(text[i].text)\n"
   ]
  },
  {
   "cell_type": "code",
   "execution_count": 14,
   "metadata": {
    "id": "D_f7Ubor8p5K"
   },
   "outputs": [],
   "source": [
    "newdf=pd.DataFrame(texts)"
   ]
  },
  {
   "cell_type": "code",
   "execution_count": 15,
   "metadata": {
    "id": "mBtfBEaB-0ng"
   },
   "outputs": [
    {
     "data": {
      "text/plain": [
       "['',\n",
       " '',\n",
       " '',\n",
       " '',\n",
       " '',\n",
       " '',\n",
       " '',\n",
       " '',\n",
       " '',\n",
       " '',\n",
       " '',\n",
       " '',\n",
       " '',\n",
       " '',\n",
       " '',\n",
       " '',\n",
       " '',\n",
       " '',\n",
       " '',\n",
       " ' ',\n",
       " ' ',\n",
       " ' ',\n",
       " ' ',\n",
       " ' ',\n",
       " ' ',\n",
       " ' ',\n",
       " ' ',\n",
       " ' ',\n",
       " ' ',\n",
       " ' ',\n",
       " ' ',\n",
       " '',\n",
       " '',\n",
       " '',\n",
       " '',\n",
       " '',\n",
       " '',\n",
       " '',\n",
       " '',\n",
       " '',\n",
       " '',\n",
       " '',\n",
       " '',\n",
       " '',\n",
       " '',\n",
       " '',\n",
       " '',\n",
       " '',\n",
       " '',\n",
       " '',\n",
       " '',\n",
       " '',\n",
       " '',\n",
       " '',\n",
       " '',\n",
       " '',\n",
       " '',\n",
       " '',\n",
       " '',\n",
       " '',\n",
       " '',\n",
       " '',\n",
       " '',\n",
       " '',\n",
       " '',\n",
       " '',\n",
       " '',\n",
       " '',\n",
       " '',\n",
       " '',\n",
       " '',\n",
       " '',\n",
       " ' ',\n",
       " '',\n",
       " ' ',\n",
       " '\\n\\n\\n\\n\\n\\n\\n\\n\\n\\n\\n\\n\\n\\n\\n\\n\\n\\n\\n\\n\\n\\n\\n\\n\\n\\n\\n\\n\\n\\n\\n\\n\\n\\n\\n\\n\\n\\n\\n\\n\\n\\n\\n\\n\\n\\n\\n\\n\\n\\n\\n\\n\\n\\n\\n\\n\\n\\n\\n\\n\\n\\n\\n\\n\\n\\n\\n\\n\\n\\n\\n\\n\\n\\n\\n\\n\\n\\n\\n\\n\\n\\n\\n\\n\\n\\n\\n\\n\\n\\n\\n\\n\\n\\n\\n\\n\\n\\n\\n\\n\\n\\n\\n\\n\\n\\n\\n\\n\\n\\n\\n\\n\\n\\n\\n\\n\\n\\n\\n\\n\\n\\n\\n\\n\\n\\n\\n\\n\\n\\n\\n\\n\\n\\n\\n\\n\\n\\n\\n\\n\\n\\n\\n\\n\\n\\n\\n\\n\\n\\n\\n\\n\\n\\n\\n\\n\\n\\n\\n\\n\\n\\n\\n\\n\\n\\n\\n\\n\\n\\n\\n\\n\\n\\n\\n\\n\\n\\n\\n\\n\\n\\n\\n\\n\\n\\n\\n\\n\\n\\n\\n\\n\\n\\n\\n\\n\\n\\n\\n\\n\\n\\n\\n\\n\\n\\n\\n\\n\\n\\n\\n\\n\\n\\n\\n\\n\\n\\n\\n\\n\\n\\n\\n\\n\\n\\n\\n\\n\\n\\n\\n\\n\\n\\n\\n\\n\\n\\n\\n\\n\\n\\n\\n\\n\\n\\n\\n\\n\\n\\n\\n',\n",
       " '\\n\\n\\n\\n\\n\\n\\n\\n\\n\\n\\n\\n\\n\\n\\n\\n\\n\\n\\n\\n\\n\\n',\n",
       " '',\n",
       " '',\n",
       " '',\n",
       " '',\n",
       " '',\n",
       " '',\n",
       " '',\n",
       " '',\n",
       " '',\n",
       " '',\n",
       " '',\n",
       " '',\n",
       " '',\n",
       " '',\n",
       " '',\n",
       " '',\n",
       " '',\n",
       " '',\n",
       " '\\n\\n\\n\\n\\n\\n\\n\\n\\n\\n\\n',\n",
       " '',\n",
       " '',\n",
       " '',\n",
       " '',\n",
       " '',\n",
       " '',\n",
       " '',\n",
       " '\\n\\n\\n\\n\\n\\n\\n\\n\\n\\n\\n\\n',\n",
       " '',\n",
       " '',\n",
       " '',\n",
       " '',\n",
       " '',\n",
       " '',\n",
       " '',\n",
       " '',\n",
       " '\\n\\n\\n\\n\\n\\n\\n\\n\\n\\n\\n\\n\\n\\n\\n\\n',\n",
       " '',\n",
       " '',\n",
       " '',\n",
       " '',\n",
       " '',\n",
       " '',\n",
       " '',\n",
       " '',\n",
       " '',\n",
       " '',\n",
       " '',\n",
       " '',\n",
       " '\\n\\n\\n\\n\\n\\n\\n\\n\\n\\n\\n\\n\\n\\n\\n\\n\\n\\n\\n\\n\\n\\n\\n\\n',\n",
       " '',\n",
       " '',\n",
       " '',\n",
       " '',\n",
       " '',\n",
       " '',\n",
       " '',\n",
       " '',\n",
       " '',\n",
       " '',\n",
       " '',\n",
       " '',\n",
       " '',\n",
       " '',\n",
       " '',\n",
       " '',\n",
       " '',\n",
       " '',\n",
       " '',\n",
       " '',\n",
       " '\\n\\n\\n\\n\\n\\n\\n\\n\\n\\n\\n',\n",
       " '',\n",
       " '',\n",
       " '',\n",
       " '',\n",
       " '',\n",
       " '',\n",
       " '',\n",
       " '\\n\\n\\n\\n\\n\\n\\n\\n\\n\\n\\n\\n\\n\\n\\n\\n\\n\\n\\n\\n',\n",
       " '',\n",
       " '',\n",
       " '',\n",
       " '',\n",
       " '',\n",
       " '',\n",
       " '',\n",
       " '',\n",
       " '',\n",
       " '',\n",
       " '',\n",
       " '',\n",
       " '',\n",
       " '',\n",
       " '',\n",
       " '',\n",
       " '\\n\\n\\n\\n\\n\\n\\n',\n",
       " '',\n",
       " '',\n",
       " '',\n",
       " '\\n\\n\\n\\n\\n\\n\\n\\n\\n\\n\\n\\n\\n',\n",
       " '',\n",
       " '',\n",
       " '',\n",
       " '',\n",
       " '',\n",
       " '',\n",
       " '',\n",
       " '',\n",
       " '',\n",
       " '\\n\\n\\n\\n\\n\\n\\n\\n\\n\\n\\n\\n',\n",
       " '',\n",
       " '',\n",
       " '',\n",
       " '',\n",
       " '',\n",
       " '',\n",
       " '',\n",
       " '',\n",
       " '\\n\\n\\n\\n\\n\\n\\n',\n",
       " '',\n",
       " '',\n",
       " '',\n",
       " '\\n\\n\\n\\n\\n\\n\\n\\n\\n\\n',\n",
       " '',\n",
       " '',\n",
       " '',\n",
       " '',\n",
       " '',\n",
       " '',\n",
       " '\\n\\n\\n\\n\\n\\n\\n\\n\\n',\n",
       " '',\n",
       " '',\n",
       " '',\n",
       " '',\n",
       " '',\n",
       " '\\n\\n\\n\\n\\n\\n\\n\\n\\n\\n\\n\\n',\n",
       " '',\n",
       " '',\n",
       " '',\n",
       " '',\n",
       " '',\n",
       " '',\n",
       " '',\n",
       " '',\n",
       " '\\n\\n\\n\\n\\n\\n\\n\\n\\n\\n',\n",
       " '',\n",
       " '',\n",
       " '',\n",
       " '',\n",
       " '',\n",
       " '',\n",
       " '\\n\\n\\n\\n\\n\\n',\n",
       " '',\n",
       " '',\n",
       " '\\n\\n\\n\\n\\n\\n\\n',\n",
       " '',\n",
       " '',\n",
       " '',\n",
       " '\\n\\n\\n\\n\\n\\n\\n',\n",
       " '',\n",
       " '',\n",
       " '',\n",
       " '\\n\\n\\n\\n\\n\\n',\n",
       " '',\n",
       " '',\n",
       " '\\n\\n\\n\\n\\n',\n",
       " '',\n",
       " '\\n ',\n",
       " '\\n ',\n",
       " 'Login',\n",
       " 'Sign Up',\n",
       " '\\n            This web site is owned and operated by Brain4ce Education Solutions Private Limited (\"we\", \"our\", or \"us\" or the \"Company\"). We understand and value your privacy. We want to make your experience online satisfying and safe. \\n\\n     This privacy policy (the \"Policy\") governs information you provide to us or we learn from your use of this web site (the \"Site\") and constitutes a legal agreement between you, as the user of the Site, and the Company, as the owner of the Site. The Policy will also tell you how we may collect, use, and in some instances share this information. Our policies do not apply to third-party websites that are connected via links to our Site and may differ from other service offerings and you should carefully review the terms of service and this privacy notice before using these services.\\n        ',\n",
       " '\\n            In general, you can visit the Site without telling us who you are or revealing any personally identifiable information about yourself. By providing your Personal Information to us, you explicitly agree to our collection and use of such information as described in this Policy.\\n        ',\n",
       " '\\n            \\n           If you choose to register, and are 13 years of age or older, we will collect and process such information\\n            from you, including but not limited to the below mentioned(“Personal Information”):\\n        ',\n",
       " '\\n                (a)\\n              \\tInformation that you provide to us by filling in forms. This includes contact information such as name, email address, mailing address, phone number, financial information, if any, unique identifiers such as preferences information such as favourites lists, transaction history.\\n\\n',\n",
       " '\\n                (b)\\n              \\tInformation that you provide when you write directly to us (including by e-mail).\\n\\n',\n",
       " '\\n                (c)\\n             \\tInformation that you provide to us by writing on our blogs;\\n\\n',\n",
       " '\\n                (d)\\n              \\tInformation relating to logs is automatically reported by your browser each time you access our Site. When you use the Site, our servers automatically record certain information that your web browser sends whenever you visit any website. These server logs may include information such as your web request, Internet Protocol (IP) address, browser type, referring/ exit pages and URLs, number of clicks, domain names, landing pages, pages viewed, and other such information. We use this information, which does not identify users, to analyze trends and to gather demographic information about the user base as a whole. We do not link this automatically-collected data to personally identifiable information.\\n\\n',\n",
       " '\\n                (e)\\n                   \\tWe may collect information about your general internet usage by using a cookie file which is stored on the hard drive of your computer. Cookies help us improve our Site and deliver a better and personalized service. Cookies enable Us:\\n\\n\\n                        i.to estimate Our users’ usage size and pattern;\\n\\n\\n                        ii.to store information about your preferences, and allow us to customize our Site according to your interests;\\n\\n\\n                        iii.to speed up your searches;\\n\\n\\n\\n',\n",
       " '\\n                        i.to estimate Our users’ usage size and pattern;\\n',\n",
       " '\\n                        ii.to store information about your preferences, and allow us to customize our Site according to your interests;\\n',\n",
       " '\\n                        iii.to speed up your searches;\\n',\n",
       " '\\n                (f)\\tto recognize you when you return to our Site.\\n',\n",
       " '\\n            We use the information we collect for following purposes, including:\\n        ',\n",
       " '\\n                (a)\\n              \\tTo provide, personalise, maintain and improve our products and services, such as to enable support and other services, enable features to personalise your edureka account;\\n\\n',\n",
       " '\\n                (b)\\n              \\tTo carry out our obligations arising from any contracts entered into between you and us and to provide you with the relevant information and services;\\n\\n',\n",
       " '\\n                (c)\\n              \\tTo administer and enhance the security of our edureka Platform and for internal operations, including troubleshooting, data analysis, testing, research, statistical and survey purposes;\\n\\n',\n",
       " '\\n                (d)\\n              \\tTo provide you with information about services we consider similar to those that you are already using, or have enquired about, or may interest you such as promotional offers. If you are a registered user, we will contact you by electronic means (e-mail or push notifications or SMS or telephone) with information about these services;\\n\\n',\n",
       " '\\n                (e)\\n              \\tTo understand our users (what they do on our Services, what features they like, how they use them, etc.), improve the content and features of our Services (such as by personalizing content to your interests), process and complete your transactions, make special offers, provide customer support, process and respond to your queries;\\n\\n',\n",
       " '\\n                (f)\\n              \\tTo generate and review reports and data about, and to conduct research on, our user base and Service usage patterns;\\n\\n',\n",
       " '\\n                (g)\\n              \\tTo allow you to participate in interactive features of our Services, if any; or\\n\\n',\n",
       " '\\n                (h)\\n              \\tTo measure or understand the effectiveness of advertising we serve to you and others, and to deliver relevant advertising to you.\\n\\n',\n",
       " '\\n                (i)\\n              \\tTo remind you of completing payments to obtain course access and remind you about class timings or class reschedule or class cancellations if any\\n\\n',\n",
       " '\\n                We may combine the information that we receive from third parties with the information you give to us and information we collect about you for the purposes set out above.  Further, we may anonymize and/or de-identify information collected from you through the Services or via other means, including via the use of third-party web analytic tools. As a result, our use and disclosure of aggregated and/or de-identified information is not restricted by this Policy, and it may be used and disclosed to others without limitation.\\n            ',\n",
       " '\\n                We analyse the log files of our edureka Platform that may contain Internet Protocol (IP) addresses, browser type and language, Internet service provider (ISP), referring, app crashes, page viewed and exit websites and applications, operating system, date/time stamp, and clickstream data. This helps us to administer the website, to learn about user behavior on the site, to improve our product and services, and to gather demographic information about our user base as a whole.\\n            ',\n",
       " \"\\n            We are committed to protecting children's privacy online. This Site is intended for users above the age of 13. We do not knowingly collect payment related information from children.\\n        \",\n",
       " '\\n            If you use or provide services on the Site for which we implement a billing system for you, we will collect additional information from you so that we can process and collect billing information. For example, we may collect your mailing address to remit payments.\\n        ',\n",
       " '\\n            The Site uses software tags called \"Cookies\" to identify customers when they visit our Site. Cookies are used to remember user preferences and maximize performance of our services. The information we collect with cookies is not sold, rented, or shared with any outside parties. Users who disable their Web browser\\'s ability to accept cookies will be able to browse our Site but may not be able to successfully use our Service.\\n        ',\n",
       " '\\n            We use both session ID cookies and persistent cookies. A session ID cookie expires when you close your browser. A persistent cookie remains on your hard drive for an extended period of time. You can remove persistent cookies by following directions provided in your Internet browser\\'s \"help\" file. Persistent cookies enable us to track and target the interests of our users to enhance the experience on our Site.\\n        ',\n",
       " '\\n            This privacy policy covers the use of cookies by our Site only and does not cover the use of cookies by any advertisers.\\n        ',\n",
       " '\\n            We may from time to time engage third parties to track and analyze non-personally identifiable usage and volume statistical information from visitors to our Site to help us administer our Site and improve its quality. Such third parties may use cookies to help track visitor behaviour. Such cookies will not be used to associate individual Site visitors to any Personal Information. All data collected by such third parties on our behalf is used only to provide us with information on Site usage and is not shared with any other third parties.\\n        ',\n",
       " '\\n            Web pages may contain an electronic file called a web beacon that allows a web site to count users who have visited that page or to access certain cookies. We may use web beacons in the following ways:\\n        ',\n",
       " '\\n            •\\tWe use web beacons within the Site in order to count users and to recognize users by accessing our cookies.\\n',\n",
       " '\\n            •\\tBeing able to access our cookies allows us to personalize your user experience.\\n',\n",
       " '\\n            •In general, any file served as part of a web page, including an ad banner, can act as a web beacon. \\n',\n",
       " \"\\n             Our Site may, from time to time, contain links to and from the websites of our affiliated merchants, partner networks, affiliates and other third parties. The inclusion of a link does not imply any endorsement by us of the third party website, the website's provider, or the information on the third party website. If you follow a link to any of these websites, please note that these websites may be governed by their own privacy policies and we disclaim all responsibility or liability with respect to these policies or the websites. Please check these policies and the terms of the websites before you submit any information to these websites.\\n         \",\n",
       " '\\n            We maintain log files of the traffic that visits our Site. We do not link any information gathered in these log files to Personal Information. Log files are used to manage traffic loads and information technology requirements for providing reliable service. Information collected includes IP addresses and browser types.\\n        ',\n",
       " '\\n            All information you provide to us is stored on our secure servers. As a registered user with an account and a password, you are responsible for keeping your password confidential. We take commercially reasonable safeguards to protect and preserve the integrity and security of your Personal Information submitted to us, both during transmission and once we receive it against loss, theft, unauthorised access, disclosure, reproduction, use or amendment. No method of transmission over the Internet, or method of electronic storage, is 100% secure. Therefore, while we strive to use commercially reasonable means to protect your Personal Information, we assume no liability for any disclosure of information due to errors in transmission, unauthorised third party access or other acts of third parties, or acts or omissions beyond our reasonable control and you agree that you will not hold us responsible for any breach of security unless such breach has been caused as a direct result of our gross negligence or wilful default.. If we learn of a security systems breach we may attempt to notify you electronically so that you can take appropriate protective steps. By using this Site or providing personal information to us you agree that we can communicate with you electronically regarding security, privacy, and administrative issues relating to your use of this site. We may post a notice on our Site if a security breach occurs. We may also send an email to you at the email address you have provided to us in these circumstances. Depending on where you live, you may have a legal right to receive notice of a security breach in writing.\\n        ',\n",
       " '\\n            We will keep Personal Information of our users for as long as they are registered subscribers or users of our products and services, and as permitted by law.\\n        ',\n",
       " \"\\n            If you have purchased Edureka course, we may ask you for testimonial, we will display your testimonial on our website, photos and videos or in our social media channels such as Facebook, YouTube or Flickr. You should be aware that your publicly identifiable information could be used to send you promotional, unsolicited messages. We are not responsible for your personal information which you have chosen to display.\\n            If you don't want us to feature your pictures/testimonials on our website or on our social media channels, you can raise a support ticket from your Edureka Log in.\\n\\n        \",\n",
       " '\\n            \\n        You can contact us if you notice that the information we are holding is incorrect or incomplete. Please raise a support ticket from your Edureka Log in.  \\n\\n\\n        ',\n",
       " '\\n            This Site may contain links to other web sites. The Company cannot and does not control the privacy practices of any such sites. You should review the privacy policy on any web site where you may submit personal information before providing it to any web site.\\n        ',\n",
       " '\\n            If you choose to register for our products and services, we will send you certain promotional emails. Promotional emails advertise our products and services and/or the products and services of our Users and Affiliates. If you do not want to receive promotional emails from us, you may elect to opt-out of receiving promotional emails at any time by hitting the \"unsubscribe\" button at the bottom of any of our e-mails.\\n        ',\n",
       " \"\\n            From the 25th of May, 2018, the processing of Personal Information of ‘users based in the European Union\\n            (“EU”) is subject to the . This\\n            section\\n            provides\\n            information as relates to EU users' rights, and our responsibilities, under this regulation.\\n        \",\n",
       " '\\n                (A)DATA TRANSFERS\\n\\n              \\tCompany is headquartered in the India, and we have operations, entities, and service providers in the Information and throughout the world. As such, we and our service providers may transfer your Personal Information to, or store or access it in, jurisdictions that may not provide equivalent levels of data protection as your home jurisdiction. We will take steps to ensure that your Personal Information receives an adequate level of protection in the jurisdictions in which we process it. If you are in the EU, we provide adequate protection for the transfer of Personal Information to countries outside of the EU through a series of intercompany agreements based on the standard contractual clauses authorized under EU law. You are entitled to obtain a copy of these agreements by contacting us as described below.\\n                \\n',\n",
       " '\\n              \\tCompany is headquartered in the India, and we have operations, entities, and service providers in the Information and throughout the world. As such, we and our service providers may transfer your Personal Information to, or store or access it in, jurisdictions that may not provide equivalent levels of data protection as your home jurisdiction. We will take steps to ensure that your Personal Information receives an adequate level of protection in the jurisdictions in which we process it. If you are in the EU, we provide adequate protection for the transfer of Personal Information to countries outside of the EU through a series of intercompany agreements based on the standard contractual clauses authorized under EU law. You are entitled to obtain a copy of these agreements by contacting us as described below.\\n                ',\n",
       " '\\n            (B)ACCESS TO PERSONAL INFORMATION\\n\\n              \\tWe rely on consent in connection with Personal Information collections or uses that are necessary to enhance the user experience, to enable optional services or features, or to communicate with you.\\n            \\n\\n\\nWithdrawal of consent\\nWe believe that we are only entitled to access or use your Personal Information\\n                                as long\\n                                as we have your consent to do so. Whenever we rely on your consent, you will always\\n                                be able to withdraw that consent.\\n\\n\\nErasure\\nWe will also erase all your Personal Information that we\\n                               hold, upon your request to\\n                               us to do so. Provided that we may decline to process your request if we believe that\\n                               doing so could impede the right of freedom of expression and information of others or\\n                               when doing so is contrary to the local applicable laws.\\n\\n\\nAccess to personal information\\nWe are committed to be completely transparent vis-à-vis the Personal\\n                                Information\\n                                that we hold. You can ask us to share with you all the Personal Information that we hold of yours, and we will do so.\\n                        \\n\\nRectification\\n                            In case you feel that your Personal Information with us is inaccurate, we allow you to have it rectified by placing a request with us in that regard.\\n                        \\n\\n\\n                We may decline to process requests that are frivolous/ vexatious, can jeopardize the privacy of others, and processing which would be highly impractical. For placing a request to exercise any of these rights, you can get in touch with us or our data protection officer – using the details set out below.\\n            \\n\\n                    Additionally, our website allows you to edit your personal information by accessing the “my account,” “my profile,” or a similar feature. Similarly, you can delete other files or information you have stored by logging in and using the available functions to delete.\\n\\n                \\n',\n",
       " '\\n              \\tWe rely on consent in connection with Personal Information collections or uses that are necessary to enhance the user experience, to enable optional services or features, or to communicate with you.\\n            ',\n",
       " '\\nWithdrawal of consent\\nWe believe that we are only entitled to access or use your Personal Information\\n                                as long\\n                                as we have your consent to do so. Whenever we rely on your consent, you will always\\n                                be able to withdraw that consent.\\n',\n",
       " 'Withdrawal of consent',\n",
       " 'We believe that we are only entitled to access or use your Personal Information\\n                                as long\\n                                as we have your consent to do so. Whenever we rely on your consent, you will always\\n                                be able to withdraw that consent.',\n",
       " '\\nErasure\\nWe will also erase all your Personal Information that we\\n                               hold, upon your request to\\n                               us to do so. Provided that we may decline to process your request if we believe that\\n                               doing so could impede the right of freedom of expression and information of others or\\n                               when doing so is contrary to the local applicable laws.\\n',\n",
       " 'Erasure',\n",
       " 'We will also erase all your Personal Information that we\\n                               hold, upon your request to\\n                               us to do so. Provided that we may decline to process your request if we believe that\\n                               doing so could impede the right of freedom of expression and information of others or\\n                               when doing so is contrary to the local applicable laws.',\n",
       " '\\nAccess to personal information\\nWe are committed to be completely transparent vis-à-vis the Personal\\n                                Information\\n                                that we hold. You can ask us to share with you all the Personal Information that we hold of yours, and we will do so.\\n                        ',\n",
       " 'Access to personal information',\n",
       " 'We are committed to be completely transparent vis-à-vis the Personal\\n                                Information\\n                                that we hold. You can ask us to share with you all the Personal Information that we hold of yours, and we will do so.\\n                        ',\n",
       " '\\nRectification\\n                            In case you feel that your Personal Information with us is inaccurate, we allow you to have it rectified by placing a request with us in that regard.\\n                        ',\n",
       " 'Rectification',\n",
       " '\\n                We may decline to process requests that are frivolous/ vexatious, can jeopardize the privacy of others, and processing which would be highly impractical. For placing a request to exercise any of these rights, you can get in touch with us or our data protection officer – using the details set out below.\\n            ',\n",
       " '\\n                    Additionally, our website allows you to edit your personal information by accessing the “my account,” “my profile,” or a similar feature. Similarly, you can delete other files or information you have stored by logging in and using the available functions to delete.\\n\\n                ',\n",
       " '\\n            (C)OBJECTIONS AND COMPLAINTS\\n',\n",
       " '\\n                    Users from and in the EU have the right to object to our processing of Personal Information.\\n                ',\n",
       " '\\n                    Users in the EU also have the right to file a complaint relating to our handling of your Personal    Information.\\n                ',\n",
       " '\\n                To file a complaint or objection, please raise a ticket from your Edureka Log in.\\n            ',\n",
       " \"\\n            (D)GROUNDS OF PROCESSING\\n\\n                When we process your Personal Information, we will only do so in the following situations:\\n            \\n\\nWe need to use your Personal Information to perform our responsibilities in relation to Services provided to you.\\nWe have a legitimate interest in processing your Personal Information. For example, we have a legitimate interest in processing your Personal Information to provide, secure, and improve our Services, in communicating with you about changes to our Services, and in informing you about new services or products.\\n                    \\nThe processing is necessary to fulfil Company's legal obligations. Company is subject to legal requirements in the jurisdictions in which it operates that require us to collect, process, disclose and retain your Personal Information. Company may also share information with law enforcement, or requests by third parties pursuant to legal processes.\\n                    \\n\\n\\n\",\n",
       " '\\n                When we process your Personal Information, we will only do so in the following situations:\\n            ',\n",
       " 'We need to use your Personal Information to perform our responsibilities in relation to Services provided to you.',\n",
       " 'We have a legitimate interest in processing your Personal Information. For example, we have a legitimate interest in processing your Personal Information to provide, secure, and improve our Services, in communicating with you about changes to our Services, and in informing you about new services or products.\\n                    ',\n",
       " \"The processing is necessary to fulfil Company's legal obligations. Company is subject to legal requirements in the jurisdictions in which it operates that require us to collect, process, disclose and retain your Personal Information. Company may also share information with law enforcement, or requests by third parties pursuant to legal processes.\\n                    \",\n",
       " '\\n            (E)SECURITY REQUIREMENT\\nWe are well placed to meet the security requirements of the GDPR. Our services are backed by\\n                    robust,\\n                    state-of-the-art technical and organizational safeguards, dedicated security and privacy teams.\\n                \\n',\n",
       " 'We are well placed to meet the security requirements of the GDPR. Our services are backed by\\n                    robust,\\n                    state-of-the-art technical and organizational safeguards, dedicated security and privacy teams.\\n                ',\n",
       " '\\n            (F)TRANSFER OF PERSONAL INFORMATION TO THIRD COUNTRIES\\nWe will ensure that transfer of Personal Information of users of the EU shall only take place\\n                  where the EU Commission has decided that the third country, a territory or one or more specified sectors within that third country, or the international organisation in question ensures an adequate level of protection. Albeit, it shall be done without any specific authorization.\\n              \\n',\n",
       " 'We will ensure that transfer of Personal Information of users of the EU shall only take place\\n                  where the EU Commission has decided that the third country, a territory or one or more specified sectors within that third country, or the international organisation in question ensures an adequate level of protection. Albeit, it shall be done without any specific authorization.\\n              ',\n",
       " \"\\nWe reserve the right to disclose your Personal Information as required by law and when we believe that disclosure doing so in the Company's interest to protect its property or other legal rights or the rights or property of others.\\n\",\n",
       " '\\n            This Policy shall be governed by and construed in accordance with the laws of the Republic of India. Subject to arbitration, the courts at Bangalore shall have exclusive jurisdiction in relation to any disputes arising out of or in connection with this Policy. \\n        ',\n",
       " '\\n            If any dispute arises between the Company and You in connection with or arising out of the validity, interpretation, implementation or alleged breach of any provision of the Policy, such dispute shall be referred to arbitration in accordance with the Indian Arbitration and Conciliation Act, 1996 for the time being in force. Arbitration shall be conducted by one (1) arbitrator mutually appointed by the Company and You. The seat of arbitration shall be Bangalore, Karnataka. The language of the arbitration proceedings and of all written decisions and correspondence relating to the arbitration shall be English.\\n        ',\n",
       " '\\n            This Site is operated in the India. If you are visiting from other regions with laws governing data collection and use that may differ from Indian law, please note that you are transferring your personal data to India, which does not have the same data protection laws and by providing your personal data you consent to:\\n        ',\n",
       " '\\n                •\\tThe use of your personal data for the uses identified above in accordance with this Privacy Policy; and \\n',\n",
       " '\\n                •\\tThe transfer of your personal data to the India as indicated above.\\n',\n",
       " '\\n            The Company is also not making any representation that the content contained on the Product is appropriate or to be used or accessed outside of the Republic of India and your use or access of the Site from outside the Republic of India, is at your own risk and you are responsible for compliance with the laws of such jurisdiction.\\n        ',\n",
       " '\\n            If the Company should ever file for bankruptcy or have its assets sold to or merge with another entity, information the Company receives from you from this Site is a Company asset that may be transferred in connection with these types of corporate events.\\n        ',\n",
       " '\\n            We may occasionally update this Privacy Policy. When we do, we will also revise the \"last updated\" date on the Privacy Policy. For changes to this Privacy Policy that may be materially less restrictive on our use or disclosure of personal information you have provided to us, we will attempt to obtain your consent before implementing the change. We encourage you to periodically review this Privacy Policy to stay informed about how we are protecting the personal information we collect. Your continued use of this Site constitutes your agreement to this Privacy Policy and any updates.\\n        ',\n",
       " '\\n        If you have questions or concerns regarding this Policy, please contact us either by raising a support ticket from your Edureka Log in or by contacting us on our support phone number.\\nAddress\\nEdureka.co\\n       IndiQube ETA \\n        3rd Floor, No.38/4,\\n        Adjacent to Dell EMC2, Dodanekundi,\\n        Outer Ring Road, Bengaluru,\\n        Karnataka - 560048\\n\\n        ',\n",
       " '\\n            If you have a grievance regarding our services, please reach out to\\n            \\n',\n",
       " '',\n",
       " '',\n",
       " '',\n",
       " '',\n",
       " '',\n",
       " '',\n",
       " '',\n",
       " '',\n",
       " '',\n",
       " '',\n",
       " '',\n",
       " '',\n",
       " '',\n",
       " '',\n",
       " '',\n",
       " '',\n",
       " '',\n",
       " '',\n",
       " '',\n",
       " '',\n",
       " '',\n",
       " '',\n",
       " '',\n",
       " '',\n",
       " '',\n",
       " '\\n\\n',\n",
       " '\\n\\n',\n",
       " '\\n\\n',\n",
       " '\\n\\n',\n",
       " '\\n\\n',\n",
       " '\\n\\n',\n",
       " '\\n\\n',\n",
       " '\\n\\n',\n",
       " '\\n\\n',\n",
       " '\\n\\n',\n",
       " '\\n\\n',\n",
       " '\\n\\n',\n",
       " '\\n\\n',\n",
       " '\\n\\n',\n",
       " '\\n\\n',\n",
       " '\\n\\n',\n",
       " '\\n\\n',\n",
       " '',\n",
       " '',\n",
       " '',\n",
       " '',\n",
       " '',\n",
       " '',\n",
       " '',\n",
       " '',\n",
       " '',\n",
       " '',\n",
       " '',\n",
       " '',\n",
       " '',\n",
       " '',\n",
       " '',\n",
       " '',\n",
       " '',\n",
       " '',\n",
       " '',\n",
       " '',\n",
       " '',\n",
       " '',\n",
       " '',\n",
       " '',\n",
       " '',\n",
       " '',\n",
       " '',\n",
       " '',\n",
       " '',\n",
       " '',\n",
       " '',\n",
       " '',\n",
       " '',\n",
       " '',\n",
       " '',\n",
       " '',\n",
       " '',\n",
       " '',\n",
       " '',\n",
       " '',\n",
       " '',\n",
       " '',\n",
       " '',\n",
       " '',\n",
       " '',\n",
       " '\\n\\n',\n",
       " '\\n\\n',\n",
       " '\\n\\n',\n",
       " '\\n\\n',\n",
       " 'Fill in the details below to unlock your coupon code',\n",
       " 'Once generated, the coupon code can be redeemed during the checkout process',\n",
       " 'Coupon code can be applied on any course during checkout process',\n",
       " '\\n00\\nD\\n',\n",
       " '\\n00\\nH\\n',\n",
       " '\\n00\\nM\\n',\n",
       " '\\n00\\nS\\n',\n",
       " '\\n              Get Free counseling to decide your next career step.\\n            ',\n",
       " '\\n              Our Career Advisor will give you a call shortly\\n            ',\n",
       " '\\n        Awesome!\\n        ',\n",
       " '\\nWe have received you contact details.\\nOne of Edureka’s Career Advisor\\nwill call you shortly.\\n',\n",
       " '\\n                                        By Signing up you agree to our  and \\n',\n",
       " '',\n",
       " '',\n",
       " '\\n            This site is protected by reCAPTCHA and the Google  and  apply.\\n        ',\n",
       " \"\\nPlease Note: By continuing and signing up, you agree to Edureka's  and . \\n            \",\n",
       " 'Already have an account? Log In',\n",
       " '',\n",
       " 'At least 1 upper-case and 1 lower-case letter',\n",
       " 'Minimum 8 characters and Maximum 50 characters',\n",
       " 'By Signing up you agree to our  and ',\n",
       " '',\n",
       " '',\n",
       " '',\n",
       " \"\\nPlease Note: By continuing and signing in, you agree to Edureka's  and . \\n        \",\n",
       " 'Don’t have an account? Sign Up',\n",
       " '',\n",
       " 'Enter your Email Address above to get a verification code.',\n",
       " '< Back to Sign Up',\n",
       " 'Verification code sent to ',\n",
       " '',\n",
       " '',\n",
       " 'At least 1 upper-case and 1 lower-case letter',\n",
       " 'Minimum 8 characters and Maximum 50 characters']"
      ]
     },
     "execution_count": 15,
     "metadata": {},
     "output_type": "execute_result"
    }
   ],
   "source": [
    "texts"
   ]
  },
  {
   "cell_type": "code",
   "execution_count": 16,
   "metadata": {
    "id": "IobRPqwsmXFu"
   },
   "outputs": [],
   "source": [
    "URL_index=[]\n",
    "for i in range(len(newdf)):\n",
    "  if any(word in newdf[0][i]for word in key_words):\n",
    "      URL_index.append(i)\n"
   ]
  },
  {
   "cell_type": "code",
   "execution_count": 17,
   "metadata": {
    "colab": {
     "base_uri": "https://localhost:8080/",
     "height": 1000
    },
    "id": "6EdQ6Rf98Bfm",
    "outputId": "83670a44-2491-4f92-d3ba-096f08bd2355"
   },
   "outputs": [
    {
     "data": {
      "text/html": [
       "<div>\n",
       "<style scoped>\n",
       "    .dataframe tbody tr th:only-of-type {\n",
       "        vertical-align: middle;\n",
       "    }\n",
       "\n",
       "    .dataframe tbody tr th {\n",
       "        vertical-align: top;\n",
       "    }\n",
       "\n",
       "    .dataframe thead th {\n",
       "        text-align: right;\n",
       "    }\n",
       "</style>\n",
       "<table border=\"1\" class=\"dataframe\">\n",
       "  <thead>\n",
       "    <tr style=\"text-align: right;\">\n",
       "      <th></th>\n",
       "      <th>0</th>\n",
       "    </tr>\n",
       "  </thead>\n",
       "  <tbody>\n",
       "    <tr>\n",
       "      <th>0</th>\n",
       "      <td></td>\n",
       "    </tr>\n",
       "    <tr>\n",
       "      <th>1</th>\n",
       "      <td></td>\n",
       "    </tr>\n",
       "    <tr>\n",
       "      <th>2</th>\n",
       "      <td></td>\n",
       "    </tr>\n",
       "    <tr>\n",
       "      <th>3</th>\n",
       "      <td></td>\n",
       "    </tr>\n",
       "    <tr>\n",
       "      <th>4</th>\n",
       "      <td></td>\n",
       "    </tr>\n",
       "    <tr>\n",
       "      <th>...</th>\n",
       "      <td>...</td>\n",
       "    </tr>\n",
       "    <tr>\n",
       "      <th>451</th>\n",
       "      <td>Verification code sent to</td>\n",
       "    </tr>\n",
       "    <tr>\n",
       "      <th>452</th>\n",
       "      <td></td>\n",
       "    </tr>\n",
       "    <tr>\n",
       "      <th>453</th>\n",
       "      <td></td>\n",
       "    </tr>\n",
       "    <tr>\n",
       "      <th>454</th>\n",
       "      <td>At least 1 upper-case and 1 lower-case letter</td>\n",
       "    </tr>\n",
       "    <tr>\n",
       "      <th>455</th>\n",
       "      <td>Minimum 8 characters and Maximum 50 characters</td>\n",
       "    </tr>\n",
       "  </tbody>\n",
       "</table>\n",
       "<p>456 rows × 1 columns</p>\n",
       "</div>"
      ],
      "text/plain": [
       "                                                  0\n",
       "0                                                  \n",
       "1                                                  \n",
       "2                                                  \n",
       "3                                                  \n",
       "4                                                  \n",
       "..                                              ...\n",
       "451                      Verification code sent to \n",
       "452                                                \n",
       "453                                                \n",
       "454   At least 1 upper-case and 1 lower-case letter\n",
       "455  Minimum 8 characters and Maximum 50 characters\n",
       "\n",
       "[456 rows x 1 columns]"
      ]
     },
     "execution_count": 17,
     "metadata": {},
     "output_type": "execute_result"
    }
   ],
   "source": [
    "newdf"
   ]
  },
  {
   "cell_type": "code",
   "execution_count": 18,
   "metadata": {
    "id": "6kJ39yc8mz-v"
   },
   "outputs": [],
   "source": [
    "if any(word in URL for word in key_words):\n",
    "  True\n",
    "elif (len(URL_index) > 0):\n",
    "  True\n",
    "else :\n",
    "  print(\"Invalid URL, not privacy policy page \")\n",
    "  result=requests.get()\n"
   ]
  },
  {
   "cell_type": "code",
   "execution_count": 19,
   "metadata": {
    "id": "Fqlenj-OdYh2"
   },
   "outputs": [],
   "source": [
    "df1=pd.DataFrame(texts)"
   ]
  },
  {
   "cell_type": "code",
   "execution_count": 20,
   "metadata": {
    "id": "CAN-6E3Gda2J"
   },
   "outputs": [],
   "source": [
    "df1 = df1.rename(columns={0: 'text'})"
   ]
  },
  {
   "cell_type": "code",
   "execution_count": 21,
   "metadata": {
    "colab": {
     "base_uri": "https://localhost:8080/",
     "height": 86
    },
    "id": "Gq7WmPkddfcS",
    "outputId": "a1632985-0068-4160-8cd9-89a3b40f2fe7"
   },
   "outputs": [
    {
     "data": {
      "text/plain": [
       "''"
      ]
     },
     "execution_count": 21,
     "metadata": {},
     "output_type": "execute_result"
    }
   ],
   "source": [
    "df1['text'][0]"
   ]
  },
  {
   "cell_type": "code",
   "execution_count": 22,
   "metadata": {
    "id": "avfvZ_vi3jC-"
   },
   "outputs": [],
   "source": [
    "df1['paragraph']=df1.index"
   ]
  },
  {
   "cell_type": "code",
   "execution_count": 23,
   "metadata": {
    "id": "WT0vDhRUgpCl"
   },
   "outputs": [],
   "source": [
    "import re\n",
    "import string\n",
    "\n",
    "def remove_URL(text):\n",
    "    url = re.compile(r\"https?://\\S+|www\\.\\S+\")\n",
    "    return url.sub(r\"\", text)\n",
    "CLEANR = re.compile('<.*?>') \n",
    "\n",
    "def cleanhtml(raw_html):\n",
    "  cleantext = re.sub(CLEANR, '', raw_html)\n",
    "  return cleantext"
   ]
  },
  {
   "cell_type": "code",
   "execution_count": 24,
   "metadata": {
    "id": "oIZqU3bhiU_D"
   },
   "outputs": [],
   "source": [
    "df1[\"text\"] = df1.text.map(remove_URL)\n",
    "df1[\"text\"] = df1.text.map(cleanhtml)\n",
    "\n",
    "tags_list = ['<p>' ,'</p>' , '<p*>',\n",
    "             '<ul>','</ul>',\n",
    "             '<li>','</li>',\n",
    "             '<br>',\n",
    "             '<strong>','</strong>',\n",
    "             '<span*>','</span>',\n",
    "             '<a href*>','</a>',\n",
    "             '<em>','</em>','→']\n",
    "\n",
    "for tag in tags_list:\n",
    "  df1['text'].replace(to_replace=tag, value='', regex=True, inplace=True)"
   ]
  },
  {
   "cell_type": "code",
   "execution_count": 25,
   "metadata": {
    "colab": {
     "base_uri": "https://localhost:8080/"
    },
    "id": "L2M0Qf2pql9K",
    "outputId": "81c7a041-c698-4693-d0d2-55d31c76fef4"
   },
   "outputs": [
    {
     "name": "stderr",
     "output_type": "stream",
     "text": [
      "[nltk_data] Downloading package stopwords to\n",
      "[nltk_data]     C:\\Users\\basem\\AppData\\Roaming\\nltk_data...\n",
      "[nltk_data]   Package stopwords is already up-to-date!\n"
     ]
    }
   ],
   "source": [
    "import nltk\n",
    "nltk.download('stopwords')\n",
    "from nltk.corpus import stopwords\n",
    "\n",
    "# Stop Words: A stop word is a commonly used word (such as “the”, “a”, “an”, “in”) that a search engine\n",
    "# has been programmed to ignore, both when indexing entries for searching and when retrieving them \n",
    "stop = set(stopwords.words(\"english\"))\n",
    "\n",
    "def remove_stopwords(text):\n",
    "    filtered_words = [word.lower() for word in text.split() if word.lower() not in stop]\n",
    "    return \" \".join(filtered_words)"
   ]
  },
  {
   "cell_type": "code",
   "execution_count": 26,
   "metadata": {
    "id": "b0xoXp9Dqx8k"
   },
   "outputs": [],
   "source": [
    "df1[\"text\"] = df1.text.map(remove_stopwords)"
   ]
  },
  {
   "cell_type": "code",
   "execution_count": 27,
   "metadata": {
    "colab": {
     "base_uri": "https://localhost:8080/",
     "height": 34
    },
    "id": "KY5bEC31q_VJ",
    "outputId": "9c06521e-f647-424d-ef60-a56504ec0848"
   },
   "outputs": [
    {
     "data": {
      "text/plain": [
       "'!\"#$%&\\'()*+,-./:;<=>?@[\\\\]^_`{|}~'"
      ]
     },
     "execution_count": 27,
     "metadata": {},
     "output_type": "execute_result"
    }
   ],
   "source": [
    "def remove_punct(text):\n",
    "    translator = str.maketrans(\"\", \"\", string.punctuation)\n",
    "    return text.translate(translator)\n",
    "\n",
    "string.punctuation"
   ]
  },
  {
   "cell_type": "code",
   "execution_count": 28,
   "metadata": {
    "colab": {
     "base_uri": "https://localhost:8080/"
    },
    "id": "iOjPBKAWrNRH",
    "outputId": "b8e3e39e-b3a3-4a03-f085-cfd548a86540"
   },
   "outputs": [
    {
     "name": "stderr",
     "output_type": "stream",
     "text": [
      "[nltk_data] Downloading package wordnet to\n",
      "[nltk_data]     C:\\Users\\basem\\AppData\\Roaming\\nltk_data...\n",
      "[nltk_data]   Package wordnet is already up-to-date!\n"
     ]
    }
   ],
   "source": [
    "import nltk\n",
    "nltk.download('wordnet')\n",
    "w_tokenizer = nltk.tokenize.WhitespaceTokenizer()\n",
    "lemmatizer = nltk.stem.WordNetLemmatizer()\n",
    "\n",
    "def lemmatize_text(text):\n",
    "    return [lemmatizer.lemmatize(w) for w in w_tokenizer.tokenize(text)]\n",
    "\n"
   ]
  },
  {
   "cell_type": "code",
   "execution_count": 29,
   "metadata": {
    "id": "zPSB0QXXrWiX"
   },
   "outputs": [],
   "source": [
    "df1['text'] = df1.text.map(lemmatize_text)"
   ]
  },
  {
   "cell_type": "code",
   "execution_count": 30,
   "metadata": {
    "colab": {
     "base_uri": "https://localhost:8080/"
    },
    "id": "ynBAY_AFrZr2",
    "outputId": "ccd0b8b0-aaff-4f0c-c8ce-b1f2def8cacd"
   },
   "outputs": [
    {
     "name": "stderr",
     "output_type": "stream",
     "text": [
      "<ipython-input-30-7f4bae9dfadd>:2: SettingWithCopyWarning: \n",
      "A value is trying to be set on a copy of a slice from a DataFrame\n",
      "\n",
      "See the caveats in the documentation: https://pandas.pydata.org/pandas-docs/stable/user_guide/indexing.html#returning-a-view-versus-a-copy\n",
      "  df1.text[i] = ' '.join(df1.text[i])\n"
     ]
    }
   ],
   "source": [
    "for i in range(len(df1)):\n",
    " df1.text[i] = ' '.join(df1.text[i])"
   ]
  },
  {
   "cell_type": "code",
   "execution_count": 31,
   "metadata": {
    "id": "AK1J78MyruUi"
   },
   "outputs": [],
   "source": [
    "#drop_index=[]\n",
    "#for i in range(len(df1)):\n",
    "#  if any(word in df1['text'][i] for word in key_words):\n",
    "#    True\n",
    "##  else:\n",
    "#   drop_index.append(i)"
   ]
  },
  {
   "cell_type": "code",
   "execution_count": 32,
   "metadata": {
    "id": "yoOevuGOtMeb"
   },
   "outputs": [],
   "source": [
    "#df1=df1.drop(df1.index[drop_index])"
   ]
  },
  {
   "cell_type": "code",
   "execution_count": 33,
   "metadata": {
    "id": "5WQOyh9nrHOJ"
   },
   "outputs": [],
   "source": [
    "df1[\"text\"] = df1.text.map(remove_punct)\n"
   ]
  },
  {
   "cell_type": "code",
   "execution_count": 34,
   "metadata": {
    "id": "-BFHmz1F3BU1"
   },
   "outputs": [],
   "source": [
    "#df1.reset_index(drop=True, inplace=True)\n"
   ]
  },
  {
   "cell_type": "code",
   "execution_count": 35,
   "metadata": {
    "id": "N3SnJeu5z4pr"
   },
   "outputs": [],
   "source": [
    "small_index=[]\n",
    "for i in range(len(df1)):\n",
    "  if (len((df1['text'][i]).split())<10):\n",
    "    small_index.append(i)"
   ]
  },
  {
   "cell_type": "code",
   "execution_count": 36,
   "metadata": {
    "id": "pVxs4lqw1XZl"
   },
   "outputs": [],
   "source": [
    "df1=df1.drop(df1.index[small_index])"
   ]
  },
  {
   "cell_type": "code",
   "execution_count": 37,
   "metadata": {
    "id": "s10wODi6905M"
   },
   "outputs": [],
   "source": [
    "df1.reset_index(drop=True, inplace=True)"
   ]
  },
  {
   "cell_type": "code",
   "execution_count": 38,
   "metadata": {
    "id": "pWMHFRyf2Fa_"
   },
   "outputs": [],
   "source": [
    "df2=df1['text']\n",
    "df2=pd.DataFrame(df2)"
   ]
  },
  {
   "cell_type": "code",
   "execution_count": 39,
   "metadata": {
    "id": "KhFHk_-55t2-"
   },
   "outputs": [],
   "source": [
    "#import important libraries\n",
    "import tensorflow as tf\n",
    "from tensorflow import keras\n",
    "import pandas as pd\n",
    "import numpy as np\n",
    "import os\n",
    "import matplotlib.pyplot as plt"
   ]
  },
  {
   "cell_type": "code",
   "execution_count": 40,
   "metadata": {
    "id": "N-2x_Rsu58f7"
   },
   "outputs": [],
   "source": [
    "df=pd.read_csv('11.csv')"
   ]
  },
  {
   "cell_type": "code",
   "execution_count": 41,
   "metadata": {},
   "outputs": [],
   "source": [
    "dfgroup=pd.read_csv(\"11_G.csv\")"
   ]
  },
  {
   "cell_type": "code",
   "execution_count": 42,
   "metadata": {},
   "outputs": [],
   "source": [
    "dfgroup['grp']=dfgroup['group']"
   ]
  },
  {
   "cell_type": "code",
   "execution_count": 43,
   "metadata": {},
   "outputs": [],
   "source": [
    "dfgroup.group=dfgroup.group.replace({'A':0,'B':1,'C':2})"
   ]
  },
  {
   "cell_type": "code",
   "execution_count": 44,
   "metadata": {},
   "outputs": [],
   "source": [
    "ygroup=dfgroup['group']"
   ]
  },
  {
   "cell_type": "code",
   "execution_count": 45,
   "metadata": {},
   "outputs": [],
   "source": [
    "group_names=np.array(['A','B','C'])"
   ]
  },
  {
   "cell_type": "code",
   "execution_count": 46,
   "metadata": {
    "id": "k_J-qp_r6EeY"
   },
   "outputs": [],
   "source": [
    "oov_tok=\"<OOV>\""
   ]
  },
  {
   "cell_type": "code",
   "execution_count": 47,
   "metadata": {
    "id": "HMtz32ma6JBg"
   },
   "outputs": [],
   "source": [
    "df['cat']=df['category']"
   ]
  },
  {
   "cell_type": "code",
   "execution_count": 48,
   "metadata": {
    "id": "ZxSLoF9z6MFi"
   },
   "outputs": [],
   "source": [
    "df.category=df.category.replace({\"First Party Collection/Use\":0,\n",
    "\"Third Party Sharing/Collection\":1,\"User Choice/Control\":2,\"User Access, Edit and Deletion\":3,\n",
    "\"Data Retention\":4,\"Data Security\":5,\"Policy Change\":6,\"Do Not Track\":7 ,\"International and Specific Audiences\":8,\n",
    "\"Other\":9})"
   ]
  },
  {
   "cell_type": "code",
   "execution_count": 49,
   "metadata": {
    "id": "RtfoahX86PNH"
   },
   "outputs": [],
   "source": [
    "target_names=['First Party Collection/Use','Third Party Sharing/Collection','User Choice/Control','User Access, Edit and Deletion','Data Retention','Data Security','Policy Change','Do Not Track','International and Specific Audiences','Other']"
   ]
  },
  {
   "cell_type": "code",
   "execution_count": 50,
   "metadata": {
    "id": "PD2nqw7O6SOF"
   },
   "outputs": [],
   "source": [
    "category_name=np.array(target_names)\n"
   ]
  },
  {
   "cell_type": "code",
   "execution_count": 51,
   "metadata": {
    "id": "UGBNVm7_6T-g"
   },
   "outputs": [],
   "source": [
    "df[\"text\"] = df.text.map(remove_URL)\n"
   ]
  },
  {
   "cell_type": "code",
   "execution_count": 52,
   "metadata": {
    "id": "PTSTvNLr6YWb"
   },
   "outputs": [],
   "source": [
    "for tag in tags_list:\n",
    "  df['text'].replace(to_replace=tag, value='', regex=True, inplace=True)"
   ]
  },
  {
   "cell_type": "code",
   "execution_count": 53,
   "metadata": {
    "id": "y_sItjrz6cie"
   },
   "outputs": [],
   "source": [
    "df[\"text\"] = df.text.map(remove_stopwords)"
   ]
  },
  {
   "cell_type": "code",
   "execution_count": 54,
   "metadata": {
    "id": "d3arcUq96fis"
   },
   "outputs": [],
   "source": [
    "df[\"text\"] = df.text.map(remove_punct)\n"
   ]
  },
  {
   "cell_type": "code",
   "execution_count": 55,
   "metadata": {
    "id": "y_avNLvO6hRh"
   },
   "outputs": [],
   "source": [
    "df['text'] = df.text.map(lemmatize_text)"
   ]
  },
  {
   "cell_type": "code",
   "execution_count": 56,
   "metadata": {
    "colab": {
     "base_uri": "https://localhost:8080/"
    },
    "id": "KTFegwr96lRg",
    "outputId": "9298c8e4-9e23-4fe2-bfa8-249754f0dc79"
   },
   "outputs": [
    {
     "name": "stderr",
     "output_type": "stream",
     "text": [
      "<ipython-input-56-2aaf30b7a2a0>:2: SettingWithCopyWarning: \n",
      "A value is trying to be set on a copy of a slice from a DataFrame\n",
      "\n",
      "See the caveats in the documentation: https://pandas.pydata.org/pandas-docs/stable/user_guide/indexing.html#returning-a-view-versus-a-copy\n",
      "  df.text[i] = ' '.join(df.text[i])\n"
     ]
    }
   ],
   "source": [
    "for i in range(len(df)):\n",
    "  df.text[i] = ' '.join(df.text[i])"
   ]
  },
  {
   "cell_type": "code",
   "execution_count": 57,
   "metadata": {
    "id": "ttERImKg6n-C"
   },
   "outputs": [],
   "source": [
    "from sklearn.model_selection import train_test_split\n",
    "x=df.text\n",
    "y=df.category\n",
    "x_train,x_test,y_train,y_test=train_test_split(x,y,test_size=0.25,random_state=4,shuffle=True)"
   ]
  },
  {
   "cell_type": "code",
   "execution_count": 58,
   "metadata": {
    "id": "PQqcPbNS6vD0"
   },
   "outputs": [],
   "source": [
    "from sklearn.feature_extraction.text import CountVectorizer\n",
    "count_vect=CountVectorizer()\n",
    "x_train_count=count_vect.fit_transform(x_train)"
   ]
  },
  {
   "cell_type": "code",
   "execution_count": 59,
   "metadata": {
    "id": "H-ba7-Wf6xOl"
   },
   "outputs": [],
   "source": [
    "from sklearn.feature_extraction.text import TfidfTransformer\n",
    "tfid_transformer=TfidfTransformer()\n",
    "x_train_tfidf=tfid_transformer.fit_transform(x_train_count)"
   ]
  },
  {
   "cell_type": "code",
   "execution_count": 60,
   "metadata": {
    "colab": {
     "base_uri": "https://localhost:8080/"
    },
    "id": "42y9W6gA6z2W",
    "outputId": "40fc8162-1075-4a03-a116-d5a5f7d0fc18"
   },
   "outputs": [
    {
     "data": {
      "text/plain": [
       "Pipeline(steps=[('tfidf', TfidfVectorizer()),\n",
       "                ('clf',\n",
       "                 SVC(C=1, gamma='auto', kernel='linear', random_state=0))])"
      ]
     },
     "execution_count": 60,
     "metadata": {},
     "output_type": "execute_result"
    }
   ],
   "source": [
    "from sklearn.pipeline import Pipeline\n",
    "from sklearn.feature_extraction.text import TfidfVectorizer\n",
    "from sklearn.svm import SVC\n",
    "\n",
    "text_clf=Pipeline([('tfidf',TfidfVectorizer()),\n",
    "                   ('clf',SVC(kernel='linear',C=1,gamma='auto',probability=False,random_state=0)),])\n",
    "text_clf.fit(x_train,y_train)"
   ]
  },
  {
   "cell_type": "code",
   "execution_count": 61,
   "metadata": {
    "id": "c8jduJ1E62xj"
   },
   "outputs": [],
   "source": [
    "SVMpredictions=text_clf.predict(x_test)"
   ]
  },
  {
   "cell_type": "code",
   "execution_count": 62,
   "metadata": {
    "colab": {
     "base_uri": "https://localhost:8080/"
    },
    "id": "bOYLOBgg65_e",
    "outputId": "6a82e746-2168-4152-c1ed-435559c91892"
   },
   "outputs": [
    {
     "name": "stdout",
     "output_type": "stream",
     "text": [
      "                                      precision    recall  f1-score   support\n",
      "\n",
      "          First Party Collection/Use       0.78      0.83      0.80       290\n",
      "      Third Party Sharing/Collection       0.81      0.77      0.79       209\n",
      "                 User Choice/Control       0.73      0.57      0.64        77\n",
      "      User Access, Edit and Deletion       0.68      0.70      0.69        27\n",
      "                      Data Retention       1.00      0.29      0.44         7\n",
      "                       Data Security       0.89      0.82      0.85        39\n",
      "                       Policy Change       0.94      0.91      0.92        32\n",
      "                        Do Not Track       1.00      1.00      1.00         4\n",
      "International and Specific Audiences       0.86      0.89      0.87        62\n",
      "                               Other       0.74      0.79      0.76       201\n",
      "\n",
      "                            accuracy                           0.79       948\n",
      "                           macro avg       0.84      0.76      0.78       948\n",
      "                        weighted avg       0.79      0.79      0.78       948\n",
      "\n"
     ]
    }
   ],
   "source": [
    "from sklearn import metrics\n",
    "print (metrics.classification_report(y_test,SVMpredictions,target_names=target_names))"
   ]
  },
  {
   "cell_type": "code",
   "execution_count": 63,
   "metadata": {
    "id": "TuWGT5jD67zc"
   },
   "outputs": [],
   "source": [
    "for i in range(len(df2)):\n",
    "  pred=text_clf.predict(df2.iloc[i])\n",
    "  (category_name[pred][0])"
   ]
  },
  {
   "cell_type": "code",
   "execution_count": 64,
   "metadata": {
    "id": "IkQockhU8xmn"
   },
   "outputs": [],
   "source": [
    "#newdf=newdf.drop(newdf.index[drop_index])"
   ]
  },
  {
   "cell_type": "code",
   "execution_count": 65,
   "metadata": {},
   "outputs": [],
   "source": [
    "from sklearn.model_selection import train_test_split\n",
    "x=df.text\n",
    "x_train2,x_test2,y_train2,y_test2=train_test_split(x,ygroup,test_size=0.25,random_state=4,shuffle=True)"
   ]
  },
  {
   "cell_type": "code",
   "execution_count": 66,
   "metadata": {},
   "outputs": [],
   "source": [
    "from sklearn.feature_extraction.text import CountVectorizer\n",
    "count_vect2=CountVectorizer()\n",
    "x_train_count2=count_vect.fit_transform(x_train2)"
   ]
  },
  {
   "cell_type": "code",
   "execution_count": 67,
   "metadata": {},
   "outputs": [],
   "source": [
    "from sklearn.feature_extraction.text import TfidfTransformer\n",
    "tfid_transformer2=TfidfTransformer()\n",
    "x_train_tfidf2=tfid_transformer2.fit_transform(x_train_count2)"
   ]
  },
  {
   "cell_type": "code",
   "execution_count": 68,
   "metadata": {},
   "outputs": [
    {
     "data": {
      "text/plain": [
       "Pipeline(steps=[('tfidf2', TfidfVectorizer()),\n",
       "                ('clf2',\n",
       "                 SVC(C=1, gamma='auto', kernel='linear', random_state=0))])"
      ]
     },
     "execution_count": 68,
     "metadata": {},
     "output_type": "execute_result"
    }
   ],
   "source": [
    "text_clf2=Pipeline([('tfidf2',TfidfVectorizer()),\n",
    "                   ('clf2',SVC(kernel='linear',C=1,gamma='auto',probability=False,random_state=0)),])\n",
    "text_clf2.fit(x_train2,y_train2)"
   ]
  },
  {
   "cell_type": "code",
   "execution_count": 69,
   "metadata": {},
   "outputs": [],
   "source": [
    "SVM2predictions=text_clf2.predict(x_test2)"
   ]
  },
  {
   "cell_type": "code",
   "execution_count": 70,
   "metadata": {},
   "outputs": [
    {
     "name": "stdout",
     "output_type": "stream",
     "text": [
      "              precision    recall  f1-score   support\n",
      "\n",
      "           A       0.38      0.49      0.43       372\n",
      "           B       0.32      0.31      0.31       311\n",
      "           C       0.34      0.21      0.26       265\n",
      "\n",
      "    accuracy                           0.35       948\n",
      "   macro avg       0.34      0.34      0.33       948\n",
      "weighted avg       0.35      0.35      0.34       948\n",
      "\n"
     ]
    }
   ],
   "source": [
    "print (metrics.classification_report(y_test2,SVM2predictions,target_names=group_names))"
   ]
  },
  {
   "cell_type": "code",
   "execution_count": 71,
   "metadata": {},
   "outputs": [],
   "source": [
    "for i in range(len(df2)):\n",
    "  pred2=text_clf2.predict(df2.iloc[i])\n",
    "  (group_names[pred2][0])"
   ]
  },
  {
   "cell_type": "code",
   "execution_count": null,
   "metadata": {},
   "outputs": [],
   "source": []
  },
  {
   "cell_type": "code",
   "execution_count": 72,
   "metadata": {
    "id": "8c-7o3-09BLm"
   },
   "outputs": [],
   "source": [
    "#newdf.reset_index(drop=True, inplace=True)\n"
   ]
  },
  {
   "cell_type": "code",
   "execution_count": 73,
   "metadata": {
    "id": "4tx8GbFO9L3N"
   },
   "outputs": [],
   "source": [
    "newdf=newdf.drop(newdf.index[small_index])"
   ]
  },
  {
   "cell_type": "code",
   "execution_count": 74,
   "metadata": {
    "id": "vEraHC3r9Nb-"
   },
   "outputs": [],
   "source": [
    "newdf.reset_index(drop=True, inplace=True)"
   ]
  },
  {
   "cell_type": "code",
   "execution_count": 75,
   "metadata": {
    "colab": {
     "base_uri": "https://localhost:8080/"
    },
    "id": "XO_SaXa-AP_c",
    "outputId": "cc48577c-3e47-4202-db40-6fd0c0d9a1f3"
   },
   "outputs": [
    {
     "name": "stderr",
     "output_type": "stream",
     "text": [
      "[nltk_data] Downloading package punkt to\n",
      "[nltk_data]     C:\\Users\\basem\\AppData\\Roaming\\nltk_data...\n",
      "[nltk_data]   Package punkt is already up-to-date!\n"
     ]
    },
    {
     "data": {
      "text/plain": [
       "True"
      ]
     },
     "execution_count": 75,
     "metadata": {},
     "output_type": "execute_result"
    }
   ],
   "source": [
    "import nltk.data\n",
    "nltk.download('punkt')\n"
   ]
  },
  {
   "cell_type": "markdown",
   "metadata": {
    "id": "5Wf0W0QxEfoF"
   },
   "source": [
    "#Prediction"
   ]
  },
  {
   "cell_type": "code",
   "execution_count": 76,
   "metadata": {
    "colab": {
     "base_uri": "https://localhost:8080/"
    },
    "id": "h4qPQ6og-1bJ",
    "outputId": "2a875c83-c34c-4503-aff0-2db8d6737704"
   },
   "outputs": [
    {
     "name": "stdout",
     "output_type": "stream",
     "text": [
      "--------------------------------------------------------------\n",
      "Paragraph Number:  1\n",
      "\n",
      "            This web site is owned and operated by Brain4ce Education Solutions Private Limited (\"we\", \"our\", or \"us\" or the \"Company\").\n",
      "We understand and value your privacy.\n",
      "We want to make your experience online satisfying and safe.\n",
      "This privacy policy (the \"Policy\") governs information you provide to us or we learn from your use of this web site (the \"Site\") and constitutes a legal agreement between you, as the user of the Site, and the Company, as the owner of the Site.\n",
      "The Policy will also tell you how we may collect, use, and in some instances share this information.\n",
      "Our policies do not apply to third-party websites that are connected via links to our Site and may differ from other service offerings and you should carefully review the terms of service and this privacy notice before using these services.\n",
      "Category :\n",
      "Other\n",
      "Group :\n",
      "B\n",
      "-----------------------------------------------------------\n",
      "Paragraph Number:  2\n",
      "\n",
      "            In general, you can visit the Site without telling us who you are or revealing any personally identifiable information about yourself.\n",
      "By providing your Personal Information to us, you explicitly agree to our collection and use of such information as described in this Policy.\n",
      "Category :\n",
      "Other\n",
      "Group :\n",
      "B\n",
      "-----------------------------------------------------------\n",
      "Paragraph Number:  3\n",
      "\n",
      "            \n",
      "           If you choose to register, and are 13 years of age or older, we will collect and process such information\n",
      "            from you, including but not limited to the below mentioned(“Personal Information”):\n",
      "Category :\n",
      "International and Specific Audiences\n",
      "Group :\n",
      "B\n",
      "-----------------------------------------------------------\n",
      "Paragraph Number:  4\n",
      "\n",
      "                (a)\n",
      "              \tInformation that you provide to us by filling in forms.\n",
      "This includes contact information such as name, email address, mailing address, phone number, financial information, if any, unique identifiers such as preferences information such as favourites lists, transaction history.\n",
      "Category :\n",
      "First Party Collection/Use\n",
      "Group :\n",
      "B\n",
      "-----------------------------------------------------------\n",
      "Paragraph Number:  5\n",
      "\n",
      "                (d)\n",
      "              \tInformation relating to logs is automatically reported by your browser each time you access our Site.\n",
      "When you use the Site, our servers automatically record certain information that your web browser sends whenever you visit any website.\n",
      "These server logs may include information such as your web request, Internet Protocol (IP) address, browser type, referring/ exit pages and URLs, number of clicks, domain names, landing pages, pages viewed, and other such information.\n",
      "We use this information, which does not identify users, to analyze trends and to gather demographic information about the user base as a whole.\n",
      "We do not link this automatically-collected data to personally identifiable information.\n",
      "Category :\n",
      "First Party Collection/Use\n",
      "Group :\n",
      "B\n",
      "-----------------------------------------------------------\n",
      "Paragraph Number:  6\n",
      "\n",
      "                (e)\n",
      "                   \tWe may collect information about your general internet usage by using a cookie file which is stored on the hard drive of your computer.\n",
      "Cookies help us improve our Site and deliver a better and personalized service.\n",
      "Cookies enable Us:\n",
      "\n",
      "\n",
      "                        i.to estimate Our users’ usage size and pattern;\n",
      "\n",
      "\n",
      "                        ii.to store information about your preferences, and allow us to customize our Site according to your interests;\n",
      "\n",
      "\n",
      "                        iii.to speed up your searches;\n",
      "Category :\n",
      "First Party Collection/Use\n",
      "Group :\n",
      "B\n",
      "-----------------------------------------------------------\n",
      "Paragraph Number:  7\n",
      "\n",
      "                        ii.to store information about your preferences, and allow us to customize our Site according to your interests;\n",
      "Category :\n",
      "First Party Collection/Use\n",
      "Group :\n",
      "B\n",
      "-----------------------------------------------------------\n",
      "Paragraph Number:  8\n",
      "\n",
      "                (a)\n",
      "              \tTo provide, personalise, maintain and improve our products and services, such as to enable support and other services, enable features to personalise your edureka account;\n",
      "Category :\n",
      "First Party Collection/Use\n",
      "Group :\n",
      "B\n",
      "-----------------------------------------------------------\n",
      "Paragraph Number:  9\n",
      "\n",
      "                (b)\n",
      "              \tTo carry out our obligations arising from any contracts entered into between you and us and to provide you with the relevant information and services;\n",
      "Category :\n",
      "First Party Collection/Use\n",
      "Group :\n",
      "B\n",
      "-----------------------------------------------------------\n",
      "Paragraph Number:  10\n",
      "\n",
      "                (c)\n",
      "              \tTo administer and enhance the security of our edureka Platform and for internal operations, including troubleshooting, data analysis, testing, research, statistical and survey purposes;\n",
      "Category :\n",
      "First Party Collection/Use\n",
      "Group :\n",
      "B\n",
      "-----------------------------------------------------------\n",
      "Paragraph Number:  11\n",
      "\n",
      "                (d)\n",
      "              \tTo provide you with information about services we consider similar to those that you are already using, or have enquired about, or may interest you such as promotional offers.\n",
      "If you are a registered user, we will contact you by electronic means (e-mail or push notifications or SMS or telephone) with information about these services;\n",
      "Category :\n",
      "First Party Collection/Use\n",
      "Group :\n",
      "B\n",
      "-----------------------------------------------------------\n",
      "Paragraph Number:  12\n",
      "\n",
      "                (e)\n",
      "              \tTo understand our users (what they do on our Services, what features they like, how they use them, etc.\n",
      "), improve the content and features of our Services (such as by personalizing content to your interests), process and complete your transactions, make special offers, provide customer support, process and respond to your queries;\n",
      "Category :\n",
      "First Party Collection/Use\n",
      "Group :\n",
      "B\n",
      "-----------------------------------------------------------\n",
      "Paragraph Number:  13\n",
      "\n",
      "                (f)\n",
      "              \tTo generate and review reports and data about, and to conduct research on, our user base and Service usage patterns;\n",
      "Category :\n",
      "First Party Collection/Use\n",
      "Group :\n",
      "B\n",
      "-----------------------------------------------------------\n",
      "Paragraph Number:  14\n",
      "\n",
      "                (h)\n",
      "              \tTo measure or understand the effectiveness of advertising we serve to you and others, and to deliver relevant advertising to you.\n",
      "Category :\n",
      "First Party Collection/Use\n",
      "Group :\n",
      "B\n",
      "-----------------------------------------------------------\n",
      "Paragraph Number:  15\n",
      "\n",
      "                (i)\n",
      "              \tTo remind you of completing payments to obtain course access and remind you about class timings or class reschedule or class cancellations if any\n",
      "Category :\n",
      "Other\n",
      "Group :\n",
      "B\n",
      "-----------------------------------------------------------\n",
      "Paragraph Number:  16\n",
      "\n",
      "                We may combine the information that we receive from third parties with the information you give to us and information we collect about you for the purposes set out above.\n",
      "Further, we may anonymize and/or de-identify information collected from you through the Services or via other means, including via the use of third-party web analytic tools.\n",
      "As a result, our use and disclosure of aggregated and/or de-identified information is not restricted by this Policy, and it may be used and disclosed to others without limitation.\n",
      "Category :\n",
      "First Party Collection/Use\n",
      "Group :\n",
      "B\n",
      "-----------------------------------------------------------\n",
      "Paragraph Number:  17\n",
      "\n",
      "                We analyse the log files of our edureka Platform that may contain Internet Protocol (IP) addresses, browser type and language, Internet service provider (ISP), referring, app crashes, page viewed and exit websites and applications, operating system, date/time stamp, and clickstream data.\n",
      "This helps us to administer the website, to learn about user behavior on the site, to improve our product and services, and to gather demographic information about our user base as a whole.\n",
      "Category :\n",
      "First Party Collection/Use\n",
      "Group :\n",
      "B\n",
      "-----------------------------------------------------------\n",
      "Paragraph Number:  18\n",
      "\n",
      "            We are committed to protecting children's privacy online.\n",
      "This Site is intended for users above the age of 13.\n",
      "We do not knowingly collect payment related information from children.\n",
      "Category :\n",
      "International and Specific Audiences\n",
      "Group :\n",
      "B\n",
      "-----------------------------------------------------------\n",
      "Paragraph Number:  19\n",
      "\n",
      "            If you use or provide services on the Site for which we implement a billing system for you, we will collect additional information from you so that we can process and collect billing information.\n",
      "For example, we may collect your mailing address to remit payments.\n",
      "Category :\n",
      "First Party Collection/Use\n",
      "Group :\n",
      "B\n",
      "-----------------------------------------------------------\n",
      "Paragraph Number:  20\n",
      "\n",
      "            The Site uses software tags called \"Cookies\" to identify customers when they visit our Site.\n",
      "Cookies are used to remember user preferences and maximize performance of our services.\n",
      "The information we collect with cookies is not sold, rented, or shared with any outside parties.\n",
      "Users who disable their Web browser's ability to accept cookies will be able to browse our Site but may not be able to successfully use our Service.\n",
      "Category :\n",
      "First Party Collection/Use\n",
      "Group :\n",
      "B\n",
      "-----------------------------------------------------------\n",
      "Paragraph Number:  21\n",
      "\n",
      "            We use both session ID cookies and persistent cookies.\n",
      "A session ID cookie expires when you close your browser.\n",
      "A persistent cookie remains on your hard drive for an extended period of time.\n",
      "You can remove persistent cookies by following directions provided in your Internet browser's \"help\" file.\n",
      "Persistent cookies enable us to track and target the interests of our users to enhance the experience on our Site.\n",
      "Category :\n",
      "First Party Collection/Use\n",
      "Group :\n",
      "B\n",
      "-----------------------------------------------------------\n",
      "Paragraph Number:  22\n",
      "\n",
      "            This privacy policy covers the use of cookies by our Site only and does not cover the use of cookies by any advertisers.\n",
      "Category :\n",
      "Other\n",
      "Group :\n",
      "B\n",
      "-----------------------------------------------------------\n",
      "Paragraph Number:  23\n",
      "\n",
      "            We may from time to time engage third parties to track and analyze non-personally identifiable usage and volume statistical information from visitors to our Site to help us administer our Site and improve its quality.\n",
      "Such third parties may use cookies to help track visitor behaviour.\n",
      "Such cookies will not be used to associate individual Site visitors to any Personal Information.\n",
      "All data collected by such third parties on our behalf is used only to provide us with information on Site usage and is not shared with any other third parties.\n",
      "Category :\n",
      "Third Party Sharing/Collection\n",
      "Group :\n",
      "B\n",
      "-----------------------------------------------------------\n",
      "Paragraph Number:  24\n",
      "\n",
      "            Web pages may contain an electronic file called a web beacon that allows a web site to count users who have visited that page or to access certain cookies.\n",
      "We may use web beacons in the following ways:\n",
      "Category :\n",
      "First Party Collection/Use\n",
      "Group :\n",
      "B\n",
      "-----------------------------------------------------------\n",
      "Paragraph Number:  25\n",
      "\n",
      "            •\tWe use web beacons within the Site in order to count users and to recognize users by accessing our cookies.\n",
      "Category :\n",
      "First Party Collection/Use\n",
      "Group :\n",
      "B\n",
      "-----------------------------------------------------------\n",
      "Paragraph Number:  26\n",
      "\n",
      "            •In general, any file served as part of a web page, including an ad banner, can act as a web beacon.\n",
      "Category :\n",
      "Other\n",
      "Group :\n",
      "B\n",
      "-----------------------------------------------------------\n",
      "Paragraph Number:  27\n",
      "\n",
      "             Our Site may, from time to time, contain links to and from the websites of our affiliated merchants, partner networks, affiliates and other third parties.\n",
      "The inclusion of a link does not imply any endorsement by us of the third party website, the website's provider, or the information on the third party website.\n",
      "If you follow a link to any of these websites, please note that these websites may be governed by their own privacy policies and we disclaim all responsibility or liability with respect to these policies or the websites.\n",
      "Please check these policies and the terms of the websites before you submit any information to these websites.\n",
      "Category :\n",
      "Other\n",
      "Group :\n",
      "B\n",
      "-----------------------------------------------------------\n",
      "Paragraph Number:  28\n",
      "\n",
      "            We maintain log files of the traffic that visits our Site.\n",
      "We do not link any information gathered in these log files to Personal Information.\n",
      "Log files are used to manage traffic loads and information technology requirements for providing reliable service.\n",
      "Information collected includes IP addresses and browser types.\n",
      "Category :\n",
      "First Party Collection/Use\n",
      "Group :\n",
      "B\n",
      "-----------------------------------------------------------\n",
      "Paragraph Number:  29\n",
      "\n",
      "            All information you provide to us is stored on our secure servers.\n",
      "As a registered user with an account and a password, you are responsible for keeping your password confidential.\n",
      "We take commercially reasonable safeguards to protect and preserve the integrity and security of your Personal Information submitted to us, both during transmission and once we receive it against loss, theft, unauthorised access, disclosure, reproduction, use or amendment.\n",
      "No method of transmission over the Internet, or method of electronic storage, is 100% secure.\n",
      "Therefore, while we strive to use commercially reasonable means to protect your Personal Information, we assume no liability for any disclosure of information due to errors in transmission, unauthorised third party access or other acts of third parties, or acts or omissions beyond our reasonable control and you agree that you will not hold us responsible for any breach of security unless such breach has been caused as a direct result of our gross negligence or wilful default..\n",
      "If we learn of a security systems breach we may attempt to notify you electronically so that you can take appropriate protective steps.\n",
      "By using this Site or providing personal information to us you agree that we can communicate with you electronically regarding security, privacy, and administrative issues relating to your use of this site.\n",
      "We may post a notice on our Site if a security breach occurs.\n",
      "We may also send an email to you at the email address you have provided to us in these circumstances.\n",
      "Depending on where you live, you may have a legal right to receive notice of a security breach in writing.\n",
      "Category :\n",
      "Data Security\n",
      "Group :\n",
      "B\n",
      "-----------------------------------------------------------\n",
      "Paragraph Number:  30\n",
      "\n",
      "            We will keep Personal Information of our users for as long as they are registered subscribers or users of our products and services, and as permitted by law.\n",
      "Category :\n",
      "First Party Collection/Use\n",
      "Group :\n",
      "B\n",
      "-----------------------------------------------------------\n",
      "Paragraph Number:  31\n",
      "\n",
      "            If you have purchased Edureka course, we may ask you for testimonial, we will display your testimonial on our website, photos and videos or in our social media channels such as Facebook, YouTube or Flickr.\n",
      "You should be aware that your publicly identifiable information could be used to send you promotional, unsolicited messages.\n",
      "We are not responsible for your personal information which you have chosen to display.\n",
      "If you don't want us to feature your pictures/testimonials on our website or on our social media channels, you can raise a support ticket from your Edureka Log in.\n",
      "Category :\n",
      "First Party Collection/Use\n",
      "Group :\n",
      "B\n",
      "-----------------------------------------------------------\n",
      "Paragraph Number:  32\n",
      "\n",
      "            \n",
      "        You can contact us if you notice that the information we are holding is incorrect or incomplete.\n",
      "Please raise a support ticket from your Edureka Log in.\n",
      "Category :\n",
      "Other\n",
      "Group :\n",
      "B\n",
      "-----------------------------------------------------------\n",
      "Paragraph Number:  33\n",
      "\n",
      "            This Site may contain links to other web sites.\n",
      "The Company cannot and does not control the privacy practices of any such sites.\n",
      "You should review the privacy policy on any web site where you may submit personal information before providing it to any web site.\n",
      "Category :\n",
      "Other\n",
      "Group :\n",
      "B\n",
      "-----------------------------------------------------------\n",
      "Paragraph Number:  34\n",
      "\n",
      "            If you choose to register for our products and services, we will send you certain promotional emails.\n",
      "Promotional emails advertise our products and services and/or the products and services of our Users and Affiliates.\n",
      "If you do not want to receive promotional emails from us, you may elect to opt-out of receiving promotional emails at any time by hitting the \"unsubscribe\" button at the bottom of any of our e-mails.\n",
      "Category :\n",
      "User Choice/Control\n",
      "Group :\n",
      "B\n",
      "-----------------------------------------------------------\n",
      "Paragraph Number:  35\n",
      "\n",
      "            From the 25th of May, 2018, the processing of Personal Information of ‘users based in the European Union\n",
      "            (“EU”) is subject to the .\n",
      "This\n",
      "            section\n",
      "            provides\n",
      "            information as relates to EU users' rights, and our responsibilities, under this regulation.\n",
      "Category :\n",
      "International and Specific Audiences\n",
      "Group :\n",
      "B\n",
      "-----------------------------------------------------------\n",
      "Paragraph Number:  36\n",
      "\n",
      "                (A)DATA TRANSFERS\n",
      "\n",
      "              \tCompany is headquartered in the India, and we have operations, entities, and service providers in the Information and throughout the world.\n",
      "As such, we and our service providers may transfer your Personal Information to, or store or access it in, jurisdictions that may not provide equivalent levels of data protection as your home jurisdiction.\n",
      "We will take steps to ensure that your Personal Information receives an adequate level of protection in the jurisdictions in which we process it.\n",
      "If you are in the EU, we provide adequate protection for the transfer of Personal Information to countries outside of the EU through a series of intercompany agreements based on the standard contractual clauses authorized under EU law.\n",
      "You are entitled to obtain a copy of these agreements by contacting us as described below.\n",
      "Category :\n",
      "International and Specific Audiences\n",
      "Group :\n",
      "B\n",
      "-----------------------------------------------------------\n",
      "Paragraph Number:  37\n",
      "\n",
      "              \tCompany is headquartered in the India, and we have operations, entities, and service providers in the Information and throughout the world.\n",
      "As such, we and our service providers may transfer your Personal Information to, or store or access it in, jurisdictions that may not provide equivalent levels of data protection as your home jurisdiction.\n",
      "We will take steps to ensure that your Personal Information receives an adequate level of protection in the jurisdictions in which we process it.\n",
      "If you are in the EU, we provide adequate protection for the transfer of Personal Information to countries outside of the EU through a series of intercompany agreements based on the standard contractual clauses authorized under EU law.\n",
      "You are entitled to obtain a copy of these agreements by contacting us as described below.\n",
      "Category :\n",
      "International and Specific Audiences\n",
      "Group :\n",
      "B\n",
      "-----------------------------------------------------------\n",
      "Paragraph Number:  38\n",
      "\n",
      "            (B)ACCESS TO PERSONAL INFORMATION\n",
      "\n",
      "              \tWe rely on consent in connection with Personal Information collections or uses that are necessary to enhance the user experience, to enable optional services or features, or to communicate with you.\n",
      "Withdrawal of consent\n",
      "We believe that we are only entitled to access or use your Personal Information\n",
      "                                as long\n",
      "                                as we have your consent to do so.\n",
      "Whenever we rely on your consent, you will always\n",
      "                                be able to withdraw that consent.\n",
      "Erasure\n",
      "We will also erase all your Personal Information that we\n",
      "                               hold, upon your request to\n",
      "                               us to do so.\n",
      "Provided that we may decline to process your request if we believe that\n",
      "                               doing so could impede the right of freedom of expression and information of others or\n",
      "                               when doing so is contrary to the local applicable laws.\n",
      "Access to personal information\n",
      "We are committed to be completely transparent vis-à-vis the Personal\n",
      "                                Information\n",
      "                                that we hold.\n",
      "You can ask us to share with you all the Personal Information that we hold of yours, and we will do so.\n",
      "Rectification\n",
      "                            In case you feel that your Personal Information with us is inaccurate, we allow you to have it rectified by placing a request with us in that regard.\n",
      "We may decline to process requests that are frivolous/ vexatious, can jeopardize the privacy of others, and processing which would be highly impractical.\n",
      "For placing a request to exercise any of these rights, you can get in touch with us or our data protection officer – using the details set out below.\n",
      "Additionally, our website allows you to edit your personal information by accessing the “my account,” “my profile,” or a similar feature.\n",
      "Similarly, you can delete other files or information you have stored by logging in and using the available functions to delete.\n",
      "Category :\n",
      "User Access, Edit and Deletion\n",
      "Group :\n",
      "B\n",
      "-----------------------------------------------------------\n",
      "Paragraph Number:  39\n",
      "\n",
      "              \tWe rely on consent in connection with Personal Information collections or uses that are necessary to enhance the user experience, to enable optional services or features, or to communicate with you.\n",
      "Category :\n",
      "First Party Collection/Use\n",
      "Group :\n",
      "B\n",
      "-----------------------------------------------------------\n",
      "Paragraph Number:  40\n",
      "\n",
      "Withdrawal of consent\n",
      "We believe that we are only entitled to access or use your Personal Information\n",
      "                                as long\n",
      "                                as we have your consent to do so.\n",
      "Whenever we rely on your consent, you will always\n",
      "                                be able to withdraw that consent.\n",
      "Category :\n",
      "Other\n",
      "Group :\n",
      "B\n",
      "-----------------------------------------------------------\n",
      "Paragraph Number:  41\n",
      "We believe that we are only entitled to access or use your Personal Information\n",
      "                                as long\n",
      "                                as we have your consent to do so.\n",
      "Whenever we rely on your consent, you will always\n",
      "                                be able to withdraw that consent.\n",
      "Category :\n",
      "Other\n",
      "Group :\n",
      "B\n",
      "-----------------------------------------------------------\n",
      "Paragraph Number:  42\n",
      "\n",
      "Erasure\n",
      "We will also erase all your Personal Information that we\n",
      "                               hold, upon your request to\n",
      "                               us to do so.\n",
      "Provided that we may decline to process your request if we believe that\n",
      "                               doing so could impede the right of freedom of expression and information of others or\n",
      "                               when doing so is contrary to the local applicable laws.\n",
      "Category :\n",
      "First Party Collection/Use\n",
      "Group :\n",
      "B\n",
      "-----------------------------------------------------------\n",
      "Paragraph Number:  43\n",
      "We will also erase all your Personal Information that we\n",
      "                               hold, upon your request to\n",
      "                               us to do so.\n",
      "Provided that we may decline to process your request if we believe that\n",
      "                               doing so could impede the right of freedom of expression and information of others or\n",
      "                               when doing so is contrary to the local applicable laws.\n",
      "Category :\n",
      "First Party Collection/Use\n",
      "Group :\n",
      "B\n",
      "-----------------------------------------------------------\n",
      "Paragraph Number:  44\n",
      "\n",
      "Access to personal information\n",
      "We are committed to be completely transparent vis-à-vis the Personal\n",
      "                                Information\n",
      "                                that we hold.\n",
      "You can ask us to share with you all the Personal Information that we hold of yours, and we will do so.\n",
      "Category :\n",
      "Other\n",
      "Group :\n",
      "B\n",
      "-----------------------------------------------------------\n",
      "Paragraph Number:  45\n",
      "We are committed to be completely transparent vis-à-vis the Personal\n",
      "                                Information\n",
      "                                that we hold.\n",
      "You can ask us to share with you all the Personal Information that we hold of yours, and we will do so.\n",
      "Category :\n",
      "Other\n",
      "Group :\n",
      "B\n",
      "-----------------------------------------------------------\n",
      "Paragraph Number:  46\n",
      "\n",
      "Rectification\n",
      "                            In case you feel that your Personal Information with us is inaccurate, we allow you to have it rectified by placing a request with us in that regard.\n",
      "Category :\n",
      "Other\n",
      "Group :\n",
      "B\n",
      "-----------------------------------------------------------\n",
      "Paragraph Number:  47\n",
      "\n",
      "                We may decline to process requests that are frivolous/ vexatious, can jeopardize the privacy of others, and processing which would be highly impractical.\n",
      "For placing a request to exercise any of these rights, you can get in touch with us or our data protection officer – using the details set out below.\n",
      "Category :\n",
      "Other\n",
      "Group :\n",
      "B\n",
      "-----------------------------------------------------------\n",
      "Paragraph Number:  48\n",
      "\n",
      "                    Additionally, our website allows you to edit your personal information by accessing the “my account,” “my profile,” or a similar feature.\n",
      "Similarly, you can delete other files or information you have stored by logging in and using the available functions to delete.\n",
      "Category :\n",
      "User Access, Edit and Deletion\n",
      "Group :\n",
      "B\n",
      "-----------------------------------------------------------\n",
      "Paragraph Number:  49\n",
      "\n",
      "                    Users in the EU also have the right to file a complaint relating to our handling of your Personal    Information.\n",
      "Category :\n",
      "Other\n",
      "Group :\n",
      "B\n",
      "-----------------------------------------------------------\n",
      "Paragraph Number:  50\n",
      "\n",
      "            (D)GROUNDS OF PROCESSING\n",
      "\n",
      "                When we process your Personal Information, we will only do so in the following situations:\n",
      "            \n",
      "\n",
      "We need to use your Personal Information to perform our responsibilities in relation to Services provided to you.\n",
      "We have a legitimate interest in processing your Personal Information.\n",
      "For example, we have a legitimate interest in processing your Personal Information to provide, secure, and improve our Services, in communicating with you about changes to our Services, and in informing you about new services or products.\n",
      "The processing is necessary to fulfil Company's legal obligations.\n",
      "Company is subject to legal requirements in the jurisdictions in which it operates that require us to collect, process, disclose and retain your Personal Information.\n",
      "Company may also share information with law enforcement, or requests by third parties pursuant to legal processes.\n",
      "Category :\n",
      "Third Party Sharing/Collection\n",
      "Group :\n",
      "B\n",
      "-----------------------------------------------------------\n",
      "Paragraph Number:  51\n",
      "We need to use your Personal Information to perform our responsibilities in relation to Services provided to you.\n",
      "Category :\n",
      "Other\n",
      "Group :\n",
      "B\n",
      "-----------------------------------------------------------\n",
      "Paragraph Number:  52\n",
      "We have a legitimate interest in processing your Personal Information.\n",
      "For example, we have a legitimate interest in processing your Personal Information to provide, secure, and improve our Services, in communicating with you about changes to our Services, and in informing you about new services or products.\n",
      "Category :\n",
      "First Party Collection/Use\n",
      "Group :\n",
      "B\n",
      "-----------------------------------------------------------\n",
      "Paragraph Number:  53\n",
      "The processing is necessary to fulfil Company's legal obligations.\n",
      "Company is subject to legal requirements in the jurisdictions in which it operates that require us to collect, process, disclose and retain your Personal Information.\n",
      "Company may also share information with law enforcement, or requests by third parties pursuant to legal processes.\n",
      "Category :\n",
      "Third Party Sharing/Collection\n",
      "Group :\n",
      "B\n",
      "-----------------------------------------------------------\n",
      "Paragraph Number:  54\n",
      "\n",
      "            (E)SECURITY REQUIREMENT\n",
      "We are well placed to meet the security requirements of the GDPR.\n",
      "Our services are backed by\n",
      "                    robust,\n",
      "                    state-of-the-art technical and organizational safeguards, dedicated security and privacy teams.\n",
      "Category :\n",
      "Data Security\n",
      "Group :\n",
      "B\n",
      "-----------------------------------------------------------\n",
      "Paragraph Number:  55\n",
      "We are well placed to meet the security requirements of the GDPR.\n",
      "Our services are backed by\n",
      "                    robust,\n",
      "                    state-of-the-art technical and organizational safeguards, dedicated security and privacy teams.\n",
      "Category :\n",
      "Data Security\n",
      "Group :\n",
      "B\n",
      "-----------------------------------------------------------\n",
      "Paragraph Number:  56\n",
      "\n",
      "            (F)TRANSFER OF PERSONAL INFORMATION TO THIRD COUNTRIES\n",
      "We will ensure that transfer of Personal Information of users of the EU shall only take place\n",
      "                  where the EU Commission has decided that the third country, a territory or one or more specified sectors within that third country, or the international organisation in question ensures an adequate level of protection.\n",
      "Albeit, it shall be done without any specific authorization.\n",
      "Category :\n",
      "International and Specific Audiences\n",
      "Group :\n",
      "B\n",
      "-----------------------------------------------------------\n",
      "Paragraph Number:  57\n",
      "We will ensure that transfer of Personal Information of users of the EU shall only take place\n",
      "                  where the EU Commission has decided that the third country, a territory or one or more specified sectors within that third country, or the international organisation in question ensures an adequate level of protection.\n",
      "Albeit, it shall be done without any specific authorization.\n",
      "Category :\n",
      "International and Specific Audiences\n",
      "Group :\n",
      "B\n",
      "-----------------------------------------------------------\n",
      "Paragraph Number:  58\n",
      "\n",
      "We reserve the right to disclose your Personal Information as required by law and when we believe that disclosure doing so in the Company's interest to protect its property or other legal rights or the rights or property of others.\n",
      "Category :\n",
      "Third Party Sharing/Collection\n",
      "Group :\n",
      "B\n",
      "-----------------------------------------------------------\n",
      "Paragraph Number:  59\n",
      "\n",
      "            This Policy shall be governed by and construed in accordance with the laws of the Republic of India.\n",
      "Subject to arbitration, the courts at Bangalore shall have exclusive jurisdiction in relation to any disputes arising out of or in connection with this Policy.\n",
      "Category :\n",
      "Other\n",
      "Group :\n",
      "B\n",
      "-----------------------------------------------------------\n",
      "Paragraph Number:  60\n",
      "\n",
      "            If any dispute arises between the Company and You in connection with or arising out of the validity, interpretation, implementation or alleged breach of any provision of the Policy, such dispute shall be referred to arbitration in accordance with the Indian Arbitration and Conciliation Act, 1996 for the time being in force.\n",
      "Arbitration shall be conducted by one (1) arbitrator mutually appointed by the Company and You.\n",
      "The seat of arbitration shall be Bangalore, Karnataka.\n",
      "The language of the arbitration proceedings and of all written decisions and correspondence relating to the arbitration shall be English.\n",
      "Category :\n",
      "Other\n",
      "Group :\n",
      "B\n",
      "-----------------------------------------------------------\n",
      "Paragraph Number:  61\n",
      "\n",
      "            This Site is operated in the India.\n",
      "If you are visiting from other regions with laws governing data collection and use that may differ from Indian law, please note that you are transferring your personal data to India, which does not have the same data protection laws and by providing your personal data you consent to:\n",
      "Category :\n",
      "International and Specific Audiences\n",
      "Group :\n",
      "B\n",
      "-----------------------------------------------------------\n",
      "Paragraph Number:  62\n",
      "\n",
      "            The Company is also not making any representation that the content contained on the Product is appropriate or to be used or accessed outside of the Republic of India and your use or access of the Site from outside the Republic of India, is at your own risk and you are responsible for compliance with the laws of such jurisdiction.\n",
      "Category :\n",
      "Third Party Sharing/Collection\n",
      "Group :\n",
      "B\n",
      "-----------------------------------------------------------\n",
      "Paragraph Number:  63\n",
      "\n",
      "            If the Company should ever file for bankruptcy or have its assets sold to or merge with another entity, information the Company receives from you from this Site is a Company asset that may be transferred in connection with these types of corporate events.\n",
      "Category :\n",
      "Third Party Sharing/Collection\n",
      "Group :\n",
      "B\n",
      "-----------------------------------------------------------\n",
      "Paragraph Number:  64\n",
      "\n",
      "            We may occasionally update this Privacy Policy.\n",
      "When we do, we will also revise the \"last updated\" date on the Privacy Policy.\n",
      "For changes to this Privacy Policy that may be materially less restrictive on our use or disclosure of personal information you have provided to us, we will attempt to obtain your consent before implementing the change.\n",
      "We encourage you to periodically review this Privacy Policy to stay informed about how we are protecting the personal information we collect.\n",
      "Your continued use of this Site constitutes your agreement to this Privacy Policy and any updates.\n",
      "Category :\n",
      "Policy Change\n",
      "Group :\n",
      "B\n",
      "-----------------------------------------------------------\n",
      "Paragraph Number:  65\n",
      "\n",
      "        If you have questions or concerns regarding this Policy, please contact us either by raising a support ticket from your Edureka Log in or by contacting us on our support phone number.\n",
      "Address\n",
      "Edureka.co\n",
      "       IndiQube ETA \n",
      "        3rd Floor, No.38/4,\n",
      "        Adjacent to Dell EMC2, Dodanekundi,\n",
      "        Outer Ring Road, Bengaluru,\n",
      "        Karnataka - 560048\n",
      "Category :\n",
      "Other\n",
      "Group :\n",
      "B\n",
      "-----------------------------------------------------------\n"
     ]
    }
   ],
   "source": [
    "print(\"--------------------------------------------------------------\")\n",
    "for i in range(len(df2)):\n",
    "  pred=text_clf.predict(df2.iloc[i])\n",
    "  tokenizer = nltk.data.load('tokenizers/punkt/english.pickle')\n",
    "  data = newdf[0][i]\n",
    "  print(\"Paragraph Number: \", i+1)\n",
    "  print('\\n'.join(tokenizer.tokenize(data)))\n",
    "  print(\"Category :\")\n",
    "  print(category_name[pred][0])\n",
    "  print(\"Group :\")\n",
    "  print(group_names[pred2][0])\n",
    "\n",
    "  print(\"-----------------------------------------------------------\")"
   ]
  },
  {
   "cell_type": "code",
   "execution_count": null,
   "metadata": {},
   "outputs": [],
   "source": []
  }
 ],
 "metadata": {
  "colab": {
   "name": "webscraping2.ipynb",
   "provenance": []
  },
  "hide_input": false,
  "kernelspec": {
   "display_name": "Python 3",
   "language": "python",
   "name": "python3"
  },
  "language_info": {
   "codemirror_mode": {
    "name": "ipython",
    "version": 3
   },
   "file_extension": ".py",
   "mimetype": "text/x-python",
   "name": "python",
   "nbconvert_exporter": "python",
   "pygments_lexer": "ipython3",
   "version": "3.8.8"
  }
 },
 "nbformat": 4,
 "nbformat_minor": 1
}
